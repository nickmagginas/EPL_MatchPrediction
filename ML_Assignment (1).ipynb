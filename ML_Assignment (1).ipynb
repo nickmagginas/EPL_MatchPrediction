{
 "cells": [
  {
   "cell_type": "markdown",
   "metadata": {},
   "source": [
    "## Machine Learning Applications to the English Premier League"
   ]
  },
  {
   "cell_type": "markdown",
   "metadata": {},
   "source": [
    "### _Introduction_\n",
    "----------------------\n",
    "\n",
    "The aim of this short project is to manage to predict the outcome of EPL matches with comparable accuracy to that of professional betting agencies. The target accuracy is around 53%. The structure of the notebook will be as follows: Firstly, the data are going to be imported and converted to a usable format making up the Data Import part of the Report. After that, the report will continue to the Data Tranformation and Exploartion Section. In this section the data will be coverted to dense information holding features and the redudant data will be discarded. The next section will describe the classificiers developed and how they perform. The report will then continue to a Model training and Evaluation Section will will describe how the classifiers were trained and then tested. Finally the Results Section will describe how well the model perfoms. In the end the final predictions of the test set will be given which will concluded the report.  \n"
   ]
  },
  {
   "cell_type": "markdown",
   "metadata": {},
   "source": [
    "#### _Data Import_\n",
    "------------------\n",
    "\n",
    "This Section outlines how the data was imported to the notebook and how they were converted to a usable format. Firstly all data manipulation is made with the aid of **pandas**. Pandas allows for very easy imports as well as makes it able to process columns or rows of the datafiles very easily.\n",
    "\n"
   ]
  },
  {
   "cell_type": "code",
   "execution_count": 1,
   "metadata": {
    "collapsed": true
   },
   "outputs": [],
   "source": [
    "import pandas as pd\n",
    "\n",
    "all_seasons = 'C://Users//nick//Desktop//ML_assignmen//epl-training.csv'\n",
    "last_season = 'C://Users//nick//Desktop//ML_assignmen//E0.csv'\n"
   ]
  },
  {
   "cell_type": "markdown",
   "metadata": {},
   "source": [
    "Source for last season files : http://www.football-data.co.uk/englandm.php.\n",
    "These are the local paths to both files. "
   ]
  },
  {
   "cell_type": "code",
   "execution_count": 2,
   "metadata": {},
   "outputs": [
    {
     "data": {
      "text/html": [
       "<div>\n",
       "<style>\n",
       "    .dataframe thead tr:only-child th {\n",
       "        text-align: right;\n",
       "    }\n",
       "\n",
       "    .dataframe thead th {\n",
       "        text-align: left;\n",
       "    }\n",
       "\n",
       "    .dataframe tbody tr th {\n",
       "        vertical-align: top;\n",
       "    }\n",
       "</style>\n",
       "<table border=\"1\" class=\"dataframe\">\n",
       "  <thead>\n",
       "    <tr style=\"text-align: right;\">\n",
       "      <th></th>\n",
       "      <th>ID</th>\n",
       "      <th>Date</th>\n",
       "      <th>HomeTeam</th>\n",
       "      <th>AwayTeam</th>\n",
       "      <th>FTHG</th>\n",
       "      <th>FTAG</th>\n",
       "      <th>FTR</th>\n",
       "      <th>HTHG</th>\n",
       "      <th>HTAG</th>\n",
       "      <th>HTR</th>\n",
       "      <th>...</th>\n",
       "      <th>HST</th>\n",
       "      <th>AST</th>\n",
       "      <th>HF</th>\n",
       "      <th>AF</th>\n",
       "      <th>HC</th>\n",
       "      <th>AC</th>\n",
       "      <th>HY</th>\n",
       "      <th>AY</th>\n",
       "      <th>HR</th>\n",
       "      <th>AR</th>\n",
       "    </tr>\n",
       "  </thead>\n",
       "  <tbody>\n",
       "    <tr>\n",
       "      <th>0</th>\n",
       "      <td>1</td>\n",
       "      <td>13 Aug 05</td>\n",
       "      <td>Everton</td>\n",
       "      <td>Man United</td>\n",
       "      <td>0</td>\n",
       "      <td>2</td>\n",
       "      <td>A</td>\n",
       "      <td>0</td>\n",
       "      <td>1</td>\n",
       "      <td>A</td>\n",
       "      <td>...</td>\n",
       "      <td>5</td>\n",
       "      <td>5</td>\n",
       "      <td>15</td>\n",
       "      <td>14</td>\n",
       "      <td>8</td>\n",
       "      <td>6</td>\n",
       "      <td>3</td>\n",
       "      <td>1</td>\n",
       "      <td>0</td>\n",
       "      <td>0</td>\n",
       "    </tr>\n",
       "    <tr>\n",
       "      <th>1</th>\n",
       "      <td>2</td>\n",
       "      <td>13 Aug 05</td>\n",
       "      <td>Man City</td>\n",
       "      <td>West Brom</td>\n",
       "      <td>0</td>\n",
       "      <td>0</td>\n",
       "      <td>D</td>\n",
       "      <td>0</td>\n",
       "      <td>0</td>\n",
       "      <td>D</td>\n",
       "      <td>...</td>\n",
       "      <td>8</td>\n",
       "      <td>3</td>\n",
       "      <td>13</td>\n",
       "      <td>11</td>\n",
       "      <td>3</td>\n",
       "      <td>6</td>\n",
       "      <td>2</td>\n",
       "      <td>3</td>\n",
       "      <td>0</td>\n",
       "      <td>0</td>\n",
       "    </tr>\n",
       "    <tr>\n",
       "      <th>2</th>\n",
       "      <td>3</td>\n",
       "      <td>14 Aug 05</td>\n",
       "      <td>Arsenal</td>\n",
       "      <td>Newcastle</td>\n",
       "      <td>2</td>\n",
       "      <td>0</td>\n",
       "      <td>H</td>\n",
       "      <td>0</td>\n",
       "      <td>0</td>\n",
       "      <td>D</td>\n",
       "      <td>...</td>\n",
       "      <td>12</td>\n",
       "      <td>1</td>\n",
       "      <td>15</td>\n",
       "      <td>17</td>\n",
       "      <td>8</td>\n",
       "      <td>3</td>\n",
       "      <td>0</td>\n",
       "      <td>1</td>\n",
       "      <td>0</td>\n",
       "      <td>1</td>\n",
       "    </tr>\n",
       "    <tr>\n",
       "      <th>3</th>\n",
       "      <td>4</td>\n",
       "      <td>20 Aug 05</td>\n",
       "      <td>Newcastle</td>\n",
       "      <td>West Ham</td>\n",
       "      <td>0</td>\n",
       "      <td>0</td>\n",
       "      <td>D</td>\n",
       "      <td>0</td>\n",
       "      <td>0</td>\n",
       "      <td>D</td>\n",
       "      <td>...</td>\n",
       "      <td>6</td>\n",
       "      <td>1</td>\n",
       "      <td>9</td>\n",
       "      <td>11</td>\n",
       "      <td>10</td>\n",
       "      <td>2</td>\n",
       "      <td>1</td>\n",
       "      <td>1</td>\n",
       "      <td>0</td>\n",
       "      <td>1</td>\n",
       "    </tr>\n",
       "    <tr>\n",
       "      <th>4</th>\n",
       "      <td>5</td>\n",
       "      <td>21 Aug 05</td>\n",
       "      <td>Chelsea</td>\n",
       "      <td>Arsenal</td>\n",
       "      <td>1</td>\n",
       "      <td>0</td>\n",
       "      <td>H</td>\n",
       "      <td>0</td>\n",
       "      <td>0</td>\n",
       "      <td>D</td>\n",
       "      <td>...</td>\n",
       "      <td>6</td>\n",
       "      <td>3</td>\n",
       "      <td>17</td>\n",
       "      <td>21</td>\n",
       "      <td>3</td>\n",
       "      <td>7</td>\n",
       "      <td>2</td>\n",
       "      <td>3</td>\n",
       "      <td>0</td>\n",
       "      <td>0</td>\n",
       "    </tr>\n",
       "  </tbody>\n",
       "</table>\n",
       "<p>5 rows × 23 columns</p>\n",
       "</div>"
      ],
      "text/plain": [
       "   ID       Date   HomeTeam    AwayTeam  FTHG  FTAG FTR  HTHG  HTAG HTR ...  \\\n",
       "0   1  13 Aug 05    Everton  Man United     0     2   A     0     1   A ...   \n",
       "1   2  13 Aug 05   Man City   West Brom     0     0   D     0     0   D ...   \n",
       "2   3  14 Aug 05    Arsenal   Newcastle     2     0   H     0     0   D ...   \n",
       "3   4  20 Aug 05  Newcastle    West Ham     0     0   D     0     0   D ...   \n",
       "4   5  21 Aug 05    Chelsea     Arsenal     1     0   H     0     0   D ...   \n",
       "\n",
       "  HST  AST  HF  AF  HC  AC  HY  AY  HR  AR  \n",
       "0   5    5  15  14   8   6   3   1   0   0  \n",
       "1   8    3  13  11   3   6   2   3   0   0  \n",
       "2  12    1  15  17   8   3   0   1   0   1  \n",
       "3   6    1   9  11  10   2   1   1   0   1  \n",
       "4   6    3  17  21   3   7   2   3   0   0  \n",
       "\n",
       "[5 rows x 23 columns]"
      ]
     },
     "execution_count": 2,
     "metadata": {},
     "output_type": "execute_result"
    }
   ],
   "source": [
    "df = pd.read_csv(all_seasons)\n",
    "df.head()"
   ]
  },
  {
   "cell_type": "markdown",
   "metadata": {},
   "source": [
    "This is the format of the first file listing a football match and features associated with it. As one can see pandas allows for efficient imports and data visualisation. The table like format allows for great visulation and the simple csv interface simplifies file reading a lot. "
   ]
  },
  {
   "cell_type": "code",
   "execution_count": 3,
   "metadata": {},
   "outputs": [
    {
     "data": {
      "text/html": [
       "<div>\n",
       "<style>\n",
       "    .dataframe thead tr:only-child th {\n",
       "        text-align: right;\n",
       "    }\n",
       "\n",
       "    .dataframe thead th {\n",
       "        text-align: left;\n",
       "    }\n",
       "\n",
       "    .dataframe tbody tr th {\n",
       "        vertical-align: top;\n",
       "    }\n",
       "</style>\n",
       "<table border=\"1\" class=\"dataframe\">\n",
       "  <thead>\n",
       "    <tr style=\"text-align: right;\">\n",
       "      <th></th>\n",
       "      <th>Div</th>\n",
       "      <th>Date</th>\n",
       "      <th>HomeTeam</th>\n",
       "      <th>AwayTeam</th>\n",
       "      <th>FTHG</th>\n",
       "      <th>FTAG</th>\n",
       "      <th>FTR</th>\n",
       "      <th>HTHG</th>\n",
       "      <th>HTAG</th>\n",
       "      <th>HTR</th>\n",
       "      <th>...</th>\n",
       "      <th>BbMxAHH</th>\n",
       "      <th>BbAvAHH</th>\n",
       "      <th>BbMxAHA</th>\n",
       "      <th>BbAvAHA</th>\n",
       "      <th>PSCH</th>\n",
       "      <th>PSCD</th>\n",
       "      <th>PSCA</th>\n",
       "      <th>Unnamed: 65</th>\n",
       "      <th>Unnamed: 66</th>\n",
       "      <th>Unnamed: 67</th>\n",
       "    </tr>\n",
       "  </thead>\n",
       "  <tbody>\n",
       "    <tr>\n",
       "      <th>0</th>\n",
       "      <td>E0</td>\n",
       "      <td>11/08/17</td>\n",
       "      <td>Arsenal</td>\n",
       "      <td>Leicester</td>\n",
       "      <td>4</td>\n",
       "      <td>3</td>\n",
       "      <td>H</td>\n",
       "      <td>2</td>\n",
       "      <td>2</td>\n",
       "      <td>D</td>\n",
       "      <td>...</td>\n",
       "      <td>1.91</td>\n",
       "      <td>1.85</td>\n",
       "      <td>2.10</td>\n",
       "      <td>2.02</td>\n",
       "      <td>1.49</td>\n",
       "      <td>4.73</td>\n",
       "      <td>7.25</td>\n",
       "      <td>NaN</td>\n",
       "      <td>NaN</td>\n",
       "      <td>NaN</td>\n",
       "    </tr>\n",
       "    <tr>\n",
       "      <th>1</th>\n",
       "      <td>E0</td>\n",
       "      <td>12/08/17</td>\n",
       "      <td>Brighton</td>\n",
       "      <td>Man City</td>\n",
       "      <td>0</td>\n",
       "      <td>2</td>\n",
       "      <td>A</td>\n",
       "      <td>0</td>\n",
       "      <td>0</td>\n",
       "      <td>D</td>\n",
       "      <td>...</td>\n",
       "      <td>1.95</td>\n",
       "      <td>1.91</td>\n",
       "      <td>2.01</td>\n",
       "      <td>1.96</td>\n",
       "      <td>11.75</td>\n",
       "      <td>6.15</td>\n",
       "      <td>1.29</td>\n",
       "      <td>NaN</td>\n",
       "      <td>NaN</td>\n",
       "      <td>NaN</td>\n",
       "    </tr>\n",
       "    <tr>\n",
       "      <th>2</th>\n",
       "      <td>E0</td>\n",
       "      <td>12/08/17</td>\n",
       "      <td>Chelsea</td>\n",
       "      <td>Burnley</td>\n",
       "      <td>2</td>\n",
       "      <td>3</td>\n",
       "      <td>A</td>\n",
       "      <td>0</td>\n",
       "      <td>3</td>\n",
       "      <td>A</td>\n",
       "      <td>...</td>\n",
       "      <td>2.03</td>\n",
       "      <td>1.97</td>\n",
       "      <td>1.95</td>\n",
       "      <td>1.90</td>\n",
       "      <td>1.33</td>\n",
       "      <td>5.40</td>\n",
       "      <td>12.25</td>\n",
       "      <td>NaN</td>\n",
       "      <td>NaN</td>\n",
       "      <td>NaN</td>\n",
       "    </tr>\n",
       "    <tr>\n",
       "      <th>3</th>\n",
       "      <td>E0</td>\n",
       "      <td>12/08/17</td>\n",
       "      <td>Crystal Palace</td>\n",
       "      <td>Huddersfield</td>\n",
       "      <td>0</td>\n",
       "      <td>3</td>\n",
       "      <td>A</td>\n",
       "      <td>0</td>\n",
       "      <td>2</td>\n",
       "      <td>A</td>\n",
       "      <td>...</td>\n",
       "      <td>2.10</td>\n",
       "      <td>2.05</td>\n",
       "      <td>1.86</td>\n",
       "      <td>1.83</td>\n",
       "      <td>1.79</td>\n",
       "      <td>3.56</td>\n",
       "      <td>5.51</td>\n",
       "      <td>NaN</td>\n",
       "      <td>NaN</td>\n",
       "      <td>NaN</td>\n",
       "    </tr>\n",
       "    <tr>\n",
       "      <th>4</th>\n",
       "      <td>E0</td>\n",
       "      <td>12/08/17</td>\n",
       "      <td>Everton</td>\n",
       "      <td>Stoke</td>\n",
       "      <td>1</td>\n",
       "      <td>0</td>\n",
       "      <td>H</td>\n",
       "      <td>1</td>\n",
       "      <td>0</td>\n",
       "      <td>H</td>\n",
       "      <td>...</td>\n",
       "      <td>1.94</td>\n",
       "      <td>1.90</td>\n",
       "      <td>2.01</td>\n",
       "      <td>1.98</td>\n",
       "      <td>1.82</td>\n",
       "      <td>3.49</td>\n",
       "      <td>5.42</td>\n",
       "      <td>NaN</td>\n",
       "      <td>NaN</td>\n",
       "      <td>NaN</td>\n",
       "    </tr>\n",
       "  </tbody>\n",
       "</table>\n",
       "<p>5 rows × 68 columns</p>\n",
       "</div>"
      ],
      "text/plain": [
       "  Div      Date        HomeTeam      AwayTeam  FTHG  FTAG FTR  HTHG  HTAG HTR  \\\n",
       "0  E0  11/08/17         Arsenal     Leicester     4     3   H     2     2   D   \n",
       "1  E0  12/08/17        Brighton      Man City     0     2   A     0     0   D   \n",
       "2  E0  12/08/17         Chelsea       Burnley     2     3   A     0     3   A   \n",
       "3  E0  12/08/17  Crystal Palace  Huddersfield     0     3   A     0     2   A   \n",
       "4  E0  12/08/17         Everton         Stoke     1     0   H     1     0   H   \n",
       "\n",
       "      ...      BbMxAHH  BbAvAHH  BbMxAHA  BbAvAHA   PSCH  PSCD   PSCA  \\\n",
       "0     ...         1.91     1.85     2.10     2.02   1.49  4.73   7.25   \n",
       "1     ...         1.95     1.91     2.01     1.96  11.75  6.15   1.29   \n",
       "2     ...         2.03     1.97     1.95     1.90   1.33  5.40  12.25   \n",
       "3     ...         2.10     2.05     1.86     1.83   1.79  3.56   5.51   \n",
       "4     ...         1.94     1.90     2.01     1.98   1.82  3.49   5.42   \n",
       "\n",
       "   Unnamed: 65  Unnamed: 66  Unnamed: 67  \n",
       "0          NaN          NaN          NaN  \n",
       "1          NaN          NaN          NaN  \n",
       "2          NaN          NaN          NaN  \n",
       "3          NaN          NaN          NaN  \n",
       "4          NaN          NaN          NaN  \n",
       "\n",
       "[5 rows x 68 columns]"
      ]
     },
     "execution_count": 3,
     "metadata": {},
     "output_type": "execute_result"
    }
   ],
   "source": [
    "last_season_df = pd.read_csv(last_season)\n",
    "last_season_df.head()"
   ]
  },
  {
   "cell_type": "markdown",
   "metadata": {},
   "source": [
    "The format here is a bit different but key features are present. \n",
    ">Note: The format of the date is different between the files"
   ]
  },
  {
   "cell_type": "code",
   "execution_count": 4,
   "metadata": {
    "collapsed": true
   },
   "outputs": [],
   "source": [
    "frames = [df,last_season_df]\n",
    "df = pd.concat(frames)\n",
    "df = df.reset_index(drop = True)"
   ]
  },
  {
   "cell_type": "markdown",
   "metadata": {},
   "source": [
    "Here the dataframes are merged into one. The indexing is not consistent so the last line resets it. More information on dataframe merging: https://pandas.pydata.org/pandas-docs/stable/merging.html"
   ]
  },
  {
   "cell_type": "code",
   "execution_count": 5,
   "metadata": {
    "collapsed": true
   },
   "outputs": [],
   "source": [
    "from datetime import datetime\n",
    "for row in df.itertuples(): \n",
    "    if row.Index < 1794: \n",
    "        df.set_value(row.Index , 'Date', datetime.strptime(row.Date, '%d %b %y'))\n",
    "    else : \n",
    "        df.set_value(row.Index , 'Date', datetime.strptime(row.Date, '%d/%m/%y'))"
   ]
  },
  {
   "cell_type": "markdown",
   "metadata": {},
   "source": [
    "The fact that the formats in date between the files are different does not allow for correct tranformation to datetime objects. For instance the line:\n",
    "`df['Date'] = pd.to_datetime(df['Date'])` results in wrong ordering of the dates and even sorting them after with `df.sort_values(by = ['Date'])` corrects the problem. Therefore the conversion is done manually. This: https://docs.python.org/2/library/datetime.html helped in finding the correct formats since they differ from the usual datetime formats which can be seen here: https://docs.microsoft.com/en-us/dotnet/standard/base-types/standard-date-and-time-format-strings."
   ]
  },
  {
   "cell_type": "markdown",
   "metadata": {},
   "source": [
    "The data is now all imported and the two datasets merged in such a way that there are no errors in date ordering. This concludes the Data Import part of the report"
   ]
  },
  {
   "cell_type": "markdown",
   "metadata": {},
   "source": [
    "#### _Data Tranformation and Exploration_\n",
    "\n",
    "-------------------------------------------\n",
    "\n",
    "This section essentially includes all processing made on the data before it is fed into the classifier. The first thing to do is to encode _FTR_, i.e. the Results of the matches, so that they take the form [0,0.5,1] instead of [H,D,A]. Furthermore, the team names should be encoded as well. "
   ]
  },
  {
   "cell_type": "code",
   "execution_count": 6,
   "metadata": {
    "collapsed": true
   },
   "outputs": [],
   "source": [
    "def encode(df):\n",
    "    unique_teams = list(df.HomeTeam.unique())\n",
    "    for row in df.itertuples(): \n",
    "        if row.FTR == 'D': \n",
    "            df.set_value(row.Index , 'FTR', 0.5)\n",
    "        elif row.FTR == 'H': \n",
    "            df.set_value(row.Index , 'FTR', 1)\n",
    "        elif row.FTR == 'A':\n",
    "            df.set_value(row.Index , 'FTR', 0)\n",
    "        else: pass\n",
    "        df.set_value(row.Index , 'HomeTeam' , unique_teams.index(row.HomeTeam))\n",
    "        df.set_value(row.Index , 'AwayTeam' , unique_teams.index(row.AwayTeam))\n",
    "\n",
    "    return df[['HomeTeam','AwayTeam','FTR','Date']] , unique_teams      "
   ]
  },
  {
   "cell_type": "markdown",
   "metadata": {},
   "source": [
    "This is a brief function which takes the dataframe and encodes both the teams and the result in the format of an integer and a floating point number respectively. The function iterates through the rows of the dataframe and encodes the columns _FTR_, _HomeTeam_ and _AwayTeam_. The function also returns `unique_teams` a list with the unique teams throughout the league for later use. The function also returns only 4 columns of the data and discards the rest. This decision is made becuase these features seem to be enough to engineer crucial information."
   ]
  },
  {
   "cell_type": "code",
   "execution_count": 7,
   "metadata": {},
   "outputs": [
    {
     "data": {
      "text/html": [
       "<div>\n",
       "<style>\n",
       "    .dataframe thead tr:only-child th {\n",
       "        text-align: right;\n",
       "    }\n",
       "\n",
       "    .dataframe thead th {\n",
       "        text-align: left;\n",
       "    }\n",
       "\n",
       "    .dataframe tbody tr th {\n",
       "        vertical-align: top;\n",
       "    }\n",
       "</style>\n",
       "<table border=\"1\" class=\"dataframe\">\n",
       "  <thead>\n",
       "    <tr style=\"text-align: right;\">\n",
       "      <th></th>\n",
       "      <th>HomeTeam</th>\n",
       "      <th>AwayTeam</th>\n",
       "      <th>FTR</th>\n",
       "      <th>Date</th>\n",
       "    </tr>\n",
       "  </thead>\n",
       "  <tbody>\n",
       "    <tr>\n",
       "      <th>0</th>\n",
       "      <td>0</td>\n",
       "      <td>6</td>\n",
       "      <td>0</td>\n",
       "      <td>2005-08-13 00:00:00</td>\n",
       "    </tr>\n",
       "    <tr>\n",
       "      <th>1</th>\n",
       "      <td>1</td>\n",
       "      <td>9</td>\n",
       "      <td>0.5</td>\n",
       "      <td>2005-08-13 00:00:00</td>\n",
       "    </tr>\n",
       "    <tr>\n",
       "      <th>2</th>\n",
       "      <td>2</td>\n",
       "      <td>3</td>\n",
       "      <td>1</td>\n",
       "      <td>2005-08-14 00:00:00</td>\n",
       "    </tr>\n",
       "    <tr>\n",
       "      <th>3</th>\n",
       "      <td>3</td>\n",
       "      <td>8</td>\n",
       "      <td>0.5</td>\n",
       "      <td>2005-08-20 00:00:00</td>\n",
       "    </tr>\n",
       "    <tr>\n",
       "      <th>4</th>\n",
       "      <td>4</td>\n",
       "      <td>2</td>\n",
       "      <td>1</td>\n",
       "      <td>2005-08-21 00:00:00</td>\n",
       "    </tr>\n",
       "  </tbody>\n",
       "</table>\n",
       "</div>"
      ],
      "text/plain": [
       "  HomeTeam AwayTeam  FTR                 Date\n",
       "0        0        6    0  2005-08-13 00:00:00\n",
       "1        1        9  0.5  2005-08-13 00:00:00\n",
       "2        2        3    1  2005-08-14 00:00:00\n",
       "3        3        8  0.5  2005-08-20 00:00:00\n",
       "4        4        2    1  2005-08-21 00:00:00"
      ]
     },
     "execution_count": 7,
     "metadata": {},
     "output_type": "execute_result"
    }
   ],
   "source": [
    "df , unique_teams = encode(df)\n",
    "df.head()"
   ]
  },
  {
   "cell_type": "markdown",
   "metadata": {},
   "source": [
    "As one can see the three first columns are all encoded. The date is kept to allow for creation of seasons in the later part of the file."
   ]
  },
  {
   "cell_type": "code",
   "execution_count": 8,
   "metadata": {
    "collapsed": true
   },
   "outputs": [],
   "source": [
    "def create_seasons(df):\n",
    "    season_number = 1\n",
    "    previous_month = 8\n",
    "    for row in df.itertuples(): \n",
    "        if row.Date.month - previous_month >= 2: \n",
    "            season_number += 1\n",
    "        previous_month = row.Date.month\n",
    "        df.set_value(row.Index,'Season_Number',season_number)\n",
    "    return df"
   ]
  },
  {
   "cell_type": "code",
   "execution_count": 9,
   "metadata": {},
   "outputs": [
    {
     "data": {
      "text/html": [
       "<div>\n",
       "<style>\n",
       "    .dataframe thead tr:only-child th {\n",
       "        text-align: right;\n",
       "    }\n",
       "\n",
       "    .dataframe thead th {\n",
       "        text-align: left;\n",
       "    }\n",
       "\n",
       "    .dataframe tbody tr th {\n",
       "        vertical-align: top;\n",
       "    }\n",
       "</style>\n",
       "<table border=\"1\" class=\"dataframe\">\n",
       "  <thead>\n",
       "    <tr style=\"text-align: right;\">\n",
       "      <th></th>\n",
       "      <th>HomeTeam</th>\n",
       "      <th>AwayTeam</th>\n",
       "      <th>FTR</th>\n",
       "      <th>Date</th>\n",
       "      <th>Season_Number</th>\n",
       "    </tr>\n",
       "  </thead>\n",
       "  <tbody>\n",
       "    <tr>\n",
       "      <th>2009</th>\n",
       "      <td>14</td>\n",
       "      <td>15</td>\n",
       "      <td>0</td>\n",
       "      <td>2018-01-02 00:00:00</td>\n",
       "      <td>13.0</td>\n",
       "    </tr>\n",
       "    <tr>\n",
       "      <th>2010</th>\n",
       "      <td>13</td>\n",
       "      <td>5</td>\n",
       "      <td>0</td>\n",
       "      <td>2018-01-02 00:00:00</td>\n",
       "      <td>13.0</td>\n",
       "    </tr>\n",
       "    <tr>\n",
       "      <th>2011</th>\n",
       "      <td>8</td>\n",
       "      <td>9</td>\n",
       "      <td>1</td>\n",
       "      <td>2018-01-02 00:00:00</td>\n",
       "      <td>13.0</td>\n",
       "    </tr>\n",
       "    <tr>\n",
       "      <th>2012</th>\n",
       "      <td>2</td>\n",
       "      <td>4</td>\n",
       "      <td>0.5</td>\n",
       "      <td>2018-01-03 00:00:00</td>\n",
       "      <td>13.0</td>\n",
       "    </tr>\n",
       "    <tr>\n",
       "      <th>2013</th>\n",
       "      <td>5</td>\n",
       "      <td>8</td>\n",
       "      <td>0.5</td>\n",
       "      <td>2018-01-04 00:00:00</td>\n",
       "      <td>13.0</td>\n",
       "    </tr>\n",
       "  </tbody>\n",
       "</table>\n",
       "</div>"
      ],
      "text/plain": [
       "     HomeTeam AwayTeam  FTR                 Date  Season_Number\n",
       "2009       14       15    0  2018-01-02 00:00:00           13.0\n",
       "2010       13        5    0  2018-01-02 00:00:00           13.0\n",
       "2011        8        9    1  2018-01-02 00:00:00           13.0\n",
       "2012        2        4  0.5  2018-01-03 00:00:00           13.0\n",
       "2013        5        8  0.5  2018-01-04 00:00:00           13.0"
      ]
     },
     "execution_count": 9,
     "metadata": {},
     "output_type": "execute_result"
    }
   ],
   "source": [
    "df = create_seasons(df)\n",
    "df.tail()"
   ]
  },
  {
   "cell_type": "markdown",
   "metadata": {},
   "source": [
    "The new column Season_Number is added here. It is needed for elo calculations which follow."
   ]
  },
  {
   "cell_type": "code",
   "execution_count": 10,
   "metadata": {
    "collapsed": true
   },
   "outputs": [],
   "source": [
    "def find_previous_matches(index, home_team, away_team , df): \n",
    "    home_team_wins = 0\n",
    "    away_team_wins = 0\n",
    "    games_drawn = 0\n",
    "    for row in df.itertuples(): \n",
    "        if row.Index < index and row.HomeTeam == home_team and row.AwayTeam == away_team: \n",
    "            if row.FTR == 1: \n",
    "                home_team_wins += 1\n",
    "            elif row.FTR == 0.5: \n",
    "                games_drawn += 1\n",
    "            else : \n",
    "                away_team_wins += 1\n",
    "    return home_team_wins, away_team_wins, games_drawn"
   ]
  },
  {
   "cell_type": "markdown",
   "metadata": {},
   "source": [
    "This function will locate all exact same matches played between two teams, home team and away team need to be same and not just the team names, and will return the outcomes of said matches."
   ]
  },
  {
   "cell_type": "code",
   "execution_count": 11,
   "metadata": {
    "collapsed": true
   },
   "outputs": [],
   "source": [
    "def calculate_outcomes(home_team_wins, away_team_wins, games_drawn): \n",
    "    if home_team_wins + away_team_wins + games_drawn == 0: \n",
    "        return 0\n",
    "    else : \n",
    "        return (home_team_wins - away_team_wins)/(home_team_wins + away_team_wins + games_drawn)"
   ]
  },
  {
   "cell_type": "markdown",
   "metadata": {},
   "source": [
    "This function will return a float depicting the outcome of previous matches played by two teams. A values larger than zero shows that the home team won more games, a value of zero that the number of games won were the same for both teams and a values less than zero means the away team has won more of the previous games."
   ]
  },
  {
   "cell_type": "code",
   "execution_count": 12,
   "metadata": {
    "collapsed": true
   },
   "outputs": [],
   "source": [
    "def weigh_previous_games(df):\n",
    "    for row in df.itertuples(): \n",
    "        home_team_wins, away_team_wins , games_drawn = find_previous_matches(row.Index,row.HomeTeam, row.AwayTeam, df)\n",
    "        df.set_value(row.Index , 'Previous_Outcomes', calculate_outcomes(home_team_wins, away_team_wins, games_drawn))\n",
    "    return df                 "
   ]
  },
  {
   "cell_type": "markdown",
   "metadata": {},
   "source": [
    "This function just combines two previous ones to generate the column Previous_Outcomes"
   ]
  },
  {
   "cell_type": "code",
   "execution_count": 13,
   "metadata": {},
   "outputs": [
    {
     "data": {
      "text/html": [
       "<div>\n",
       "<style>\n",
       "    .dataframe thead tr:only-child th {\n",
       "        text-align: right;\n",
       "    }\n",
       "\n",
       "    .dataframe thead th {\n",
       "        text-align: left;\n",
       "    }\n",
       "\n",
       "    .dataframe tbody tr th {\n",
       "        vertical-align: top;\n",
       "    }\n",
       "</style>\n",
       "<table border=\"1\" class=\"dataframe\">\n",
       "  <thead>\n",
       "    <tr style=\"text-align: right;\">\n",
       "      <th></th>\n",
       "      <th>HomeTeam</th>\n",
       "      <th>AwayTeam</th>\n",
       "      <th>FTR</th>\n",
       "      <th>Date</th>\n",
       "      <th>Season_Number</th>\n",
       "      <th>Previous_Outcomes</th>\n",
       "    </tr>\n",
       "  </thead>\n",
       "  <tbody>\n",
       "    <tr>\n",
       "      <th>2009</th>\n",
       "      <td>14</td>\n",
       "      <td>15</td>\n",
       "      <td>0</td>\n",
       "      <td>2018-01-02 00:00:00</td>\n",
       "      <td>13.0</td>\n",
       "      <td>1.000000</td>\n",
       "    </tr>\n",
       "    <tr>\n",
       "      <th>2010</th>\n",
       "      <td>13</td>\n",
       "      <td>5</td>\n",
       "      <td>0</td>\n",
       "      <td>2018-01-02 00:00:00</td>\n",
       "      <td>13.0</td>\n",
       "      <td>-0.666667</td>\n",
       "    </tr>\n",
       "    <tr>\n",
       "      <th>2011</th>\n",
       "      <td>8</td>\n",
       "      <td>9</td>\n",
       "      <td>1</td>\n",
       "      <td>2018-01-02 00:00:00</td>\n",
       "      <td>13.0</td>\n",
       "      <td>0.250000</td>\n",
       "    </tr>\n",
       "    <tr>\n",
       "      <th>2012</th>\n",
       "      <td>2</td>\n",
       "      <td>4</td>\n",
       "      <td>0.5</td>\n",
       "      <td>2018-01-03 00:00:00</td>\n",
       "      <td>13.0</td>\n",
       "      <td>-0.166667</td>\n",
       "    </tr>\n",
       "    <tr>\n",
       "      <th>2013</th>\n",
       "      <td>5</td>\n",
       "      <td>8</td>\n",
       "      <td>0.5</td>\n",
       "      <td>2018-01-04 00:00:00</td>\n",
       "      <td>13.0</td>\n",
       "      <td>0.545455</td>\n",
       "    </tr>\n",
       "  </tbody>\n",
       "</table>\n",
       "</div>"
      ],
      "text/plain": [
       "     HomeTeam AwayTeam  FTR                 Date  Season_Number  \\\n",
       "2009       14       15    0  2018-01-02 00:00:00           13.0   \n",
       "2010       13        5    0  2018-01-02 00:00:00           13.0   \n",
       "2011        8        9    1  2018-01-02 00:00:00           13.0   \n",
       "2012        2        4  0.5  2018-01-03 00:00:00           13.0   \n",
       "2013        5        8  0.5  2018-01-04 00:00:00           13.0   \n",
       "\n",
       "      Previous_Outcomes  \n",
       "2009           1.000000  \n",
       "2010          -0.666667  \n",
       "2011           0.250000  \n",
       "2012          -0.166667  \n",
       "2013           0.545455  "
      ]
     },
     "execution_count": 13,
     "metadata": {},
     "output_type": "execute_result"
    }
   ],
   "source": [
    "df = weigh_previous_games(df)\n",
    "df.tail()"
   ]
  },
  {
   "cell_type": "markdown",
   "metadata": {},
   "source": [
    "The above table shows the addition of the column Previous_Outcomes explained above"
   ]
  },
  {
   "cell_type": "code",
   "execution_count": 14,
   "metadata": {
    "collapsed": true
   },
   "outputs": [],
   "source": [
    "def find_two_previous_games(index,df,team):\n",
    "    game_count = 0\n",
    "    games_won = 0\n",
    "    for row in df.itertuples(): \n",
    "        if row.Index < index and game_count < 3:\n",
    "            if team == row.HomeTeam or team == row.AwayTeam:\n",
    "                game_count += 1\n",
    "                if team == row.HomeTeam and row.FTR == 1: \n",
    "                    games_won += 1\n",
    "                elif team == row.AwayTeam and row.FTR == 0: \n",
    "                    games_won += 1\n",
    "                else: \n",
    "                    pass\n",
    "        else: \n",
    "            break\n",
    "    if games_won == 2: \n",
    "        return 1\n",
    "    else: return 0"
   ]
  },
  {
   "cell_type": "markdown",
   "metadata": {},
   "source": [
    "This function finds the two previous games a team played and if they won both it determines the team to be on a streak."
   ]
  },
  {
   "cell_type": "code",
   "execution_count": 15,
   "metadata": {
    "collapsed": true
   },
   "outputs": [],
   "source": [
    "def determine_team_streak(df):\n",
    "    for row in df.itertuples(): \n",
    "        df.set_value(row.Index,'Home_Team_Streak',find_two_previous_games(row.Index,df,row.HomeTeam))\n",
    "        df.set_value(row.Index,'Away_Team_Streak',find_two_previous_games(row.Index,df,row.AwayTeam))\n",
    "    return df"
   ]
  },
  {
   "cell_type": "markdown",
   "metadata": {},
   "source": [
    "This simple function just calls `find_two_previous_games` to avoid to many nested loops and creates columns to indicate whether the HomeTeam or AwayTeam is on Streak"
   ]
  },
  {
   "cell_type": "code",
   "execution_count": 16,
   "metadata": {},
   "outputs": [
    {
     "data": {
      "text/html": [
       "<div>\n",
       "<style>\n",
       "    .dataframe thead tr:only-child th {\n",
       "        text-align: right;\n",
       "    }\n",
       "\n",
       "    .dataframe thead th {\n",
       "        text-align: left;\n",
       "    }\n",
       "\n",
       "    .dataframe tbody tr th {\n",
       "        vertical-align: top;\n",
       "    }\n",
       "</style>\n",
       "<table border=\"1\" class=\"dataframe\">\n",
       "  <thead>\n",
       "    <tr style=\"text-align: right;\">\n",
       "      <th></th>\n",
       "      <th>HomeTeam</th>\n",
       "      <th>AwayTeam</th>\n",
       "      <th>FTR</th>\n",
       "      <th>Date</th>\n",
       "      <th>Season_Number</th>\n",
       "      <th>Previous_Outcomes</th>\n",
       "      <th>Home_Team_Streak</th>\n",
       "      <th>Away_Team_Streak</th>\n",
       "    </tr>\n",
       "  </thead>\n",
       "  <tbody>\n",
       "    <tr>\n",
       "      <th>2009</th>\n",
       "      <td>14</td>\n",
       "      <td>15</td>\n",
       "      <td>0</td>\n",
       "      <td>2018-01-02 00:00:00</td>\n",
       "      <td>13.0</td>\n",
       "      <td>1.000000</td>\n",
       "      <td>0.0</td>\n",
       "      <td>0.0</td>\n",
       "    </tr>\n",
       "    <tr>\n",
       "      <th>2010</th>\n",
       "      <td>13</td>\n",
       "      <td>5</td>\n",
       "      <td>0</td>\n",
       "      <td>2018-01-02 00:00:00</td>\n",
       "      <td>13.0</td>\n",
       "      <td>-0.666667</td>\n",
       "      <td>0.0</td>\n",
       "      <td>0.0</td>\n",
       "    </tr>\n",
       "    <tr>\n",
       "      <th>2011</th>\n",
       "      <td>8</td>\n",
       "      <td>9</td>\n",
       "      <td>1</td>\n",
       "      <td>2018-01-02 00:00:00</td>\n",
       "      <td>13.0</td>\n",
       "      <td>0.250000</td>\n",
       "      <td>0.0</td>\n",
       "      <td>0.0</td>\n",
       "    </tr>\n",
       "    <tr>\n",
       "      <th>2012</th>\n",
       "      <td>2</td>\n",
       "      <td>4</td>\n",
       "      <td>0.5</td>\n",
       "      <td>2018-01-03 00:00:00</td>\n",
       "      <td>13.0</td>\n",
       "      <td>-0.166667</td>\n",
       "      <td>1.0</td>\n",
       "      <td>0.0</td>\n",
       "    </tr>\n",
       "    <tr>\n",
       "      <th>2013</th>\n",
       "      <td>5</td>\n",
       "      <td>8</td>\n",
       "      <td>0.5</td>\n",
       "      <td>2018-01-04 00:00:00</td>\n",
       "      <td>13.0</td>\n",
       "      <td>0.545455</td>\n",
       "      <td>0.0</td>\n",
       "      <td>0.0</td>\n",
       "    </tr>\n",
       "  </tbody>\n",
       "</table>\n",
       "</div>"
      ],
      "text/plain": [
       "     HomeTeam AwayTeam  FTR                 Date  Season_Number  \\\n",
       "2009       14       15    0  2018-01-02 00:00:00           13.0   \n",
       "2010       13        5    0  2018-01-02 00:00:00           13.0   \n",
       "2011        8        9    1  2018-01-02 00:00:00           13.0   \n",
       "2012        2        4  0.5  2018-01-03 00:00:00           13.0   \n",
       "2013        5        8  0.5  2018-01-04 00:00:00           13.0   \n",
       "\n",
       "      Previous_Outcomes  Home_Team_Streak  Away_Team_Streak  \n",
       "2009           1.000000               0.0               0.0  \n",
       "2010          -0.666667               0.0               0.0  \n",
       "2011           0.250000               0.0               0.0  \n",
       "2012          -0.166667               1.0               0.0  \n",
       "2013           0.545455               0.0               0.0  "
      ]
     },
     "execution_count": 16,
     "metadata": {},
     "output_type": "execute_result"
    }
   ],
   "source": [
    "df = determine_team_streak(df)\n",
    "df.tail()"
   ]
  },
  {
   "cell_type": "markdown",
   "metadata": {
    "collapsed": true
   },
   "source": [
    "The table is used to show the two new columns."
   ]
  },
  {
   "cell_type": "code",
   "execution_count": 17,
   "metadata": {
    "collapsed": true
   },
   "outputs": [],
   "source": [
    "def create_elo_system(df,unique_teams):\n",
    "    elo_dictionary = dict((team,0) for team in unique_teams)\n",
    "    current_season = 1\n",
    "    for row in df.itertuples():\n",
    "        if row.Season_Number != current_season: \n",
    "            elo_dictionary = dict((team,0) for team in unique_teams)\n",
    "            current_season = row.Season_Number\n",
    "        if row.FTR == 1: \n",
    "            df.set_value(row.Index,'Home_Team_ELO',elo_dictionary[unique_teams[row.HomeTeam]])\n",
    "            df.set_value(row.Index,'Away_Team_ELO',elo_dictionary[unique_teams[row.AwayTeam]])\n",
    "            elo_dictionary[unique_teams[row.HomeTeam]] += 3\n",
    "        elif row.FTR == 0.5:\n",
    "            df.set_value(row.Index,'Home_Team_ELO',elo_dictionary[unique_teams[row.HomeTeam]])\n",
    "            df.set_value(row.Index,'Away_Team_ELO',elo_dictionary[unique_teams[row.AwayTeam]])\n",
    "            elo_dictionary[unique_teams[row.HomeTeam]] += 1\n",
    "            elo_dictionary[unique_teams[row.AwayTeam]] += 1\n",
    "        else: \n",
    "            df.set_value(row.Index,'Home_Team_ELO',elo_dictionary[unique_teams[row.HomeTeam]])\n",
    "            df.set_value(row.Index,'Away_Team_ELO',elo_dictionary[unique_teams[row.AwayTeam]])\n",
    "            elo_dictionary[unique_teams[row.AwayTeam]] += 3\n",
    "    return df,elo_dictionary\n",
    "        "
   ]
  },
  {
   "cell_type": "markdown",
   "metadata": {},
   "source": [
    "This function implements the Premier League ELO System. The function causes a reset every time a new season starts and distributes points in line with the Premier League's System."
   ]
  },
  {
   "cell_type": "code",
   "execution_count": 18,
   "metadata": {
    "scrolled": true
   },
   "outputs": [
    {
     "data": {
      "text/html": [
       "<div>\n",
       "<style>\n",
       "    .dataframe thead tr:only-child th {\n",
       "        text-align: right;\n",
       "    }\n",
       "\n",
       "    .dataframe thead th {\n",
       "        text-align: left;\n",
       "    }\n",
       "\n",
       "    .dataframe tbody tr th {\n",
       "        vertical-align: top;\n",
       "    }\n",
       "</style>\n",
       "<table border=\"1\" class=\"dataframe\">\n",
       "  <thead>\n",
       "    <tr style=\"text-align: right;\">\n",
       "      <th></th>\n",
       "      <th>HomeTeam</th>\n",
       "      <th>AwayTeam</th>\n",
       "      <th>FTR</th>\n",
       "      <th>Date</th>\n",
       "      <th>Season_Number</th>\n",
       "      <th>Previous_Outcomes</th>\n",
       "      <th>Home_Team_Streak</th>\n",
       "      <th>Away_Team_Streak</th>\n",
       "      <th>Home_Team_ELO</th>\n",
       "      <th>Away_Team_ELO</th>\n",
       "    </tr>\n",
       "  </thead>\n",
       "  <tbody>\n",
       "    <tr>\n",
       "      <th>2009</th>\n",
       "      <td>14</td>\n",
       "      <td>15</td>\n",
       "      <td>0</td>\n",
       "      <td>2018-01-02 00:00:00</td>\n",
       "      <td>13.0</td>\n",
       "      <td>1.000000</td>\n",
       "      <td>0.0</td>\n",
       "      <td>0.0</td>\n",
       "      <td>20.0</td>\n",
       "      <td>19.0</td>\n",
       "    </tr>\n",
       "    <tr>\n",
       "      <th>2010</th>\n",
       "      <td>13</td>\n",
       "      <td>5</td>\n",
       "      <td>0</td>\n",
       "      <td>2018-01-02 00:00:00</td>\n",
       "      <td>13.0</td>\n",
       "      <td>-0.666667</td>\n",
       "      <td>0.0</td>\n",
       "      <td>0.0</td>\n",
       "      <td>16.0</td>\n",
       "      <td>37.0</td>\n",
       "    </tr>\n",
       "    <tr>\n",
       "      <th>2011</th>\n",
       "      <td>8</td>\n",
       "      <td>9</td>\n",
       "      <td>1</td>\n",
       "      <td>2018-01-02 00:00:00</td>\n",
       "      <td>13.0</td>\n",
       "      <td>0.250000</td>\n",
       "      <td>0.0</td>\n",
       "      <td>0.0</td>\n",
       "      <td>18.0</td>\n",
       "      <td>16.0</td>\n",
       "    </tr>\n",
       "    <tr>\n",
       "      <th>2012</th>\n",
       "      <td>2</td>\n",
       "      <td>4</td>\n",
       "      <td>0.5</td>\n",
       "      <td>2018-01-03 00:00:00</td>\n",
       "      <td>13.0</td>\n",
       "      <td>-0.166667</td>\n",
       "      <td>1.0</td>\n",
       "      <td>0.0</td>\n",
       "      <td>38.0</td>\n",
       "      <td>45.0</td>\n",
       "    </tr>\n",
       "    <tr>\n",
       "      <th>2013</th>\n",
       "      <td>5</td>\n",
       "      <td>8</td>\n",
       "      <td>0.5</td>\n",
       "      <td>2018-01-04 00:00:00</td>\n",
       "      <td>13.0</td>\n",
       "      <td>0.545455</td>\n",
       "      <td>0.0</td>\n",
       "      <td>0.0</td>\n",
       "      <td>40.0</td>\n",
       "      <td>21.0</td>\n",
       "    </tr>\n",
       "  </tbody>\n",
       "</table>\n",
       "</div>"
      ],
      "text/plain": [
       "     HomeTeam AwayTeam  FTR                 Date  Season_Number  \\\n",
       "2009       14       15    0  2018-01-02 00:00:00           13.0   \n",
       "2010       13        5    0  2018-01-02 00:00:00           13.0   \n",
       "2011        8        9    1  2018-01-02 00:00:00           13.0   \n",
       "2012        2        4  0.5  2018-01-03 00:00:00           13.0   \n",
       "2013        5        8  0.5  2018-01-04 00:00:00           13.0   \n",
       "\n",
       "      Previous_Outcomes  Home_Team_Streak  Away_Team_Streak  Home_Team_ELO  \\\n",
       "2009           1.000000               0.0               0.0           20.0   \n",
       "2010          -0.666667               0.0               0.0           16.0   \n",
       "2011           0.250000               0.0               0.0           18.0   \n",
       "2012          -0.166667               1.0               0.0           38.0   \n",
       "2013           0.545455               0.0               0.0           40.0   \n",
       "\n",
       "      Away_Team_ELO  \n",
       "2009           19.0  \n",
       "2010           37.0  \n",
       "2011           16.0  \n",
       "2012           45.0  \n",
       "2013           21.0  "
      ]
     },
     "execution_count": 18,
     "metadata": {},
     "output_type": "execute_result"
    }
   ],
   "source": [
    "df,elo_dictionary = create_elo_system(df,unique_teams)\n",
    "df.tail()"
   ]
  },
  {
   "cell_type": "markdown",
   "metadata": {},
   "source": [
    "The addition of the last two columns Home_Team_ELO and Away_Team_ELO can be seen in the table above."
   ]
  },
  {
   "cell_type": "code",
   "execution_count": 19,
   "metadata": {
    "collapsed": true
   },
   "outputs": [],
   "source": [
    "df.to_csv('C://Users//nick//Desktop//ML_assignmen//dataframe.csv')"
   ]
  },
  {
   "cell_type": "markdown",
   "metadata": {},
   "source": [
    "Here I exported the dataframe to check everything was in order. "
   ]
  },
  {
   "cell_type": "code",
   "execution_count": 20,
   "metadata": {},
   "outputs": [
    {
     "data": {
      "image/png": "[encoded data removed]",
      "text/plain": [
       "<matplotlib.figure.Figure at 0x20b869deb70>"
      ]
     },
     "metadata": {},
     "output_type": "display_data"
    }
   ],
   "source": [
    "import seaborn as sns\n",
    "import matplotlib.pyplot as plt\n",
    "plt.style.use('ggplot')\n",
    "sns.heatmap(df.corr())\n",
    "plt.show()"
   ]
  },
  {
   "cell_type": "markdown",
   "metadata": {},
   "source": [
    "Tha above heatmap shows the pearson correlation between the different features. This is done to determine if there is a perfect corellation between two different variables. If there were that would render them redundant since the offer no adittional information. However, the only perfect unison corellations are in the diagonal, i.e. a feature with itself. The strongest corellation is between Home and Away Team ELO but that is not that strong to signal that one of them should not be considered information carrying. "
   ]
  },
  {
   "cell_type": "code",
   "execution_count": 21,
   "metadata": {},
   "outputs": [
    {
     "data": {
      "image/png": "[encoded data removed]",
      "text/plain": [
       "<matplotlib.figure.Figure at 0x20b820c5d30>"
      ]
     },
     "metadata": {},
     "output_type": "display_data"
    }
   ],
   "source": [
    "df['FTR_encoded'] = df['FTR'].astype('category')\n",
    "df['FTR_encoded'] = df['FTR_encoded'].cat.codes\n",
    "columns_array = ['Ses_NO','Prev_Games','Home_Streak','Away_Streak','Home_ELO','Away_ELO','FTR']\n",
    "corellations = df[df.columns].corr()['FTR_encoded']\n",
    "plt.plot(range(0,len(columns_array)),corellations)\n",
    "plt.xlabel('Features')\n",
    "plt.ylabel('Corellation')\n",
    "plt.xticks(range(0,len(columns_array)), columns_array, size = 'small')\n",
    "plt.show()\n"
   ]
  },
  {
   "cell_type": "markdown",
   "metadata": {},
   "source": [
    "The relationship between FTR and the features is also very interesting. As one can see the features to be used have stronger corellations to FTR than those which will not be used. For example Previous outcomes is more strongly corellated to FTR than Season Number which has almost zero corellation as expected."
   ]
  },
  {
   "cell_type": "markdown",
   "metadata": {},
   "source": [
    "This concluded the dimensionality reduction since both feature selection and extraction have taken place to arrive a key set of 5 features which all have a strong corellation coefficient to FTR."
   ]
  },
  {
   "cell_type": "markdown",
   "metadata": {},
   "source": [
    "#### _Methodology_\n",
    "\n",
    "--------------------\n",
    "\n",
    "This section will include all steps taken so far and will detail the classifiers to be used in tackling the problem. The processing started with two raw data files which included a large number of features for each match. From those features only four were kept. That is the result of the match the home and away team and the date. The date is was not used in feature creation, but it was just for validating that the data did not get mixed up. The result, home team and away team were all encoded. Following that, seasons were created so as to allow ELO reset in the beginning of each season. The features created were: \n",
    "1. Home and Away Team Streaks: This Feature depicts whether each of the teams has won both their previous matches. It has binary form, that is can be either 1 indicating the team is on Streak or 0 indicating it is not. \n",
    "2. Home and Away Team ELO: The ELO for each datapoint is that of the teams before the game, since we cannot use the elo after the game to predict the outcome of the game. The ELO is calculated with the standard EPL system, i.e. 3 points for a win, 1 for a draw and 0 for a loss. \n",
    "3. Previous_Outcomes: This feature calculates a floating-point number depicting how all the previous matches between the teams have played out.\n",
    "\n",
    "The data is now ready to be fit with a classifier. The data is not enough in number to suggest a neural-network architechture is optimal. However, it could be that a neural network actually has success in such a dataset. The suggested algorithms for such tasks involve logistic regression and support vector machines. The Neural Network Architechture will also be explored using a small neural network will no external libraries. The methods are implimented here and compared with one another. The multivariant version of both of these normally binary algorithms is used, since the target can take one of three values. "
   ]
  },
  {
   "cell_type": "code",
   "execution_count": 22,
   "metadata": {},
   "outputs": [],
   "source": [
    "from sklearn.model_selection import train_test_split\n",
    "from sklearn.svm import SVC\n",
    "from sklearn.utils import shuffle\n",
    "from sklearn.model_selection import cross_val_score\n",
    "from sklearn.linear_model import LogisticRegression\n",
    "import random\n",
    "import numpy as np\n",
    "\n",
    "def apply_classifier(df, model= None, cross_validation = False, print_test=False):\n",
    "    train_data , test_data = train_test_split(df,test_size = 0.2,shuffle = False)\n",
    "    train_data = shuffle(train_data)\n",
    "    test_data = shuffle(test_data)\n",
    "    train_X = train_data[['Home_Team_ELO','Away_Team_ELO','Previous_Outcomes','Home_Team_Streak','Away_Team_Streak']]\n",
    "    train_Y = train_data[['FTR']]\n",
    "    for row in train_Y.itertuples(): \n",
    "        if row.FTR == 0.5: \n",
    "            train_Y.set_value(row.Index,'FTR',2)\n",
    "    train_Y = train_Y.astype(int)\n",
    "    test_X = test_data[['Home_Team_ELO','Away_Team_ELO','Previous_Outcomes','Home_Team_Streak','Away_Team_Streak']]\n",
    "    test_Y = test_data[['FTR']]\n",
    "    for row in test_Y.itertuples(): \n",
    "        if row.FTR == 0.5: \n",
    "            test_Y.set_value(row.Index,'FTR',2)\n",
    "    test_Y = test_Y.astype(int)\n",
    "    if model == 'SVM': \n",
    "        clf = SVC()\n",
    "        if print_test: \n",
    "            clf.fit(train_X,train_Y.values.ravel())\n",
    "            i = 0\n",
    "            for row in test_X.itertuples(): \n",
    "                data = np.array(row[1::]).reshape(1,-1)\n",
    "                print('Target:' , test_Y.values[i], 'Prediction:', clf.predict(data))\n",
    "                i+= 1\n",
    "        else:\n",
    "            if cross_validation == True:\n",
    "                accuracy_values = cross_val_score(clf,train_X,train_Y.values.ravel(),cv=10)\n",
    "                iterations = range(0,len(accuracy_values))\n",
    "                plt.plot(iterations,accuracy_values)\n",
    "                plt.xlabel('Cross_Validation_Iterations')\n",
    "                plt.ylabel('Accuracy')\n",
    "                plt.show()\n",
    "                print('Mean Accuracy:' , accuracy_values.mean(),'%')\n",
    "            else:\n",
    "                clf.fit(train_X,train_Y.values.ravel())\n",
    "                print('Accuracy:', clf.score(test_X,test_Y),'%')\n",
    "        return clf\n",
    "    \n",
    "    elif model == 'Logistic_Regression':\n",
    "        logreg = LogisticRegression(C=1,solver='lbfgs',class_weight = 'balanced')\n",
    "        if print_test: \n",
    "            logreg.fit(train_X,train_Y.values.ravel())\n",
    "            i = 0\n",
    "            for row in test_X.itertuples(): \n",
    "                data = np.array(row[1::]).reshape(1,-1)\n",
    "                print('Target:' , test_Y.values[i], 'Prediction:', logreg.predict(data))\n",
    "                i+= 1\n",
    "        else:\n",
    "            if cross_validation:\n",
    "                accuracy_values = cross_val_score(logreg,train_X,train_Y.values.ravel(),cv=10)\n",
    "                iterations = range(0,len(accuracy_values))\n",
    "                plt.plot(iterations,accuracy_values)\n",
    "                plt.xlabel('Cross_Validation_Iterations')\n",
    "                plt.ylabel('Accuracy')\n",
    "                plt.show()\n",
    "                print('Mean Accuracy:' , accuracy_values.mean(),'%')\n",
    "            else:\n",
    "                logreg.fit(train_X,train_Y.values.ravel())\n",
    "                print('Accuracy:', logreg.score(test_X,test_Y),'%')\n",
    "        return logreg "
   ]
  },
  {
   "cell_type": "markdown",
   "metadata": {},
   "source": [
    "This function implements the actual classification. The train and test sets are created. The data is not shuffled here becuase the first data points have inaccurate ELO values and therefore we should not use them for accuracy testing. The data is shuffled after the train and test plit. Two classifiers are used, that is Logistic Regression and a Support Vector Machine.\n",
    "After training both classifiers they output the accuracy of the model, determined by prediction of the test set. The training process for both algorithms involves decleration of the classifiers using _sklearn_ then fiting the data and finally getting the accuracy of the model using the _score_ attribute of both classifier objects.  "
   ]
  },
  {
   "cell_type": "code",
   "execution_count": 23,
   "metadata": {},
   "outputs": [
    {
     "name": "stdout",
     "output_type": "stream",
     "text": [
      "Accuracy: 0.506203473945 %\n"
     ]
    }
   ],
   "source": [
    "logreg = apply_classifier(df,model = 'Logistic_Regression')"
   ]
  },
  {
   "cell_type": "code",
   "execution_count": 24,
   "metadata": {},
   "outputs": [
    {
     "name": "stdout",
     "output_type": "stream",
     "text": [
      "Target: [1] Prediction: [1]\n",
      "Target: [1] Prediction: [1]\n",
      "Target: [1] Prediction: [0]\n",
      "Target: [0] Prediction: [0]\n",
      "Target: [0] Prediction: [0]\n",
      "Target: [1] Prediction: [0]\n",
      "Target: [1] Prediction: [0]\n",
      "Target: [1] Prediction: [1]\n",
      "Target: [1] Prediction: [0]\n",
      "Target: [2] Prediction: [1]\n",
      "Target: [2] Prediction: [0]\n",
      "Target: [1] Prediction: [1]\n",
      "Target: [0] Prediction: [1]\n",
      "Target: [1] Prediction: [1]\n",
      "Target: [0] Prediction: [0]\n",
      "Target: [0] Prediction: [0]\n",
      "Target: [0] Prediction: [1]\n",
      "Target: [1] Prediction: [1]\n",
      "Target: [1] Prediction: [1]\n",
      "Target: [1] Prediction: [2]\n",
      "Target: [0] Prediction: [2]\n",
      "Target: [1] Prediction: [1]\n",
      "Target: [1] Prediction: [2]\n",
      "Target: [2] Prediction: [1]\n",
      "Target: [2] Prediction: [1]\n",
      "Target: [2] Prediction: [0]\n",
      "Target: [0] Prediction: [0]\n",
      "Target: [1] Prediction: [1]\n",
      "Target: [1] Prediction: [1]\n",
      "Target: [2] Prediction: [0]\n",
      "Target: [2] Prediction: [2]\n",
      "Target: [0] Prediction: [0]\n",
      "Target: [0] Prediction: [1]\n",
      "Target: [0] Prediction: [0]\n",
      "Target: [0] Prediction: [1]\n",
      "Target: [2] Prediction: [0]\n",
      "Target: [0] Prediction: [0]\n",
      "Target: [1] Prediction: [1]\n",
      "Target: [2] Prediction: [1]\n",
      "Target: [0] Prediction: [0]\n",
      "Target: [2] Prediction: [0]\n",
      "Target: [2] Prediction: [1]\n",
      "Target: [1] Prediction: [1]\n",
      "Target: [1] Prediction: [0]\n",
      "Target: [2] Prediction: [1]\n",
      "Target: [0] Prediction: [1]\n",
      "Target: [1] Prediction: [1]\n",
      "Target: [2] Prediction: [0]\n",
      "Target: [0] Prediction: [1]\n",
      "Target: [1] Prediction: [2]\n",
      "Target: [0] Prediction: [1]\n",
      "Target: [1] Prediction: [0]\n",
      "Target: [0] Prediction: [1]\n",
      "Target: [1] Prediction: [1]\n",
      "Target: [2] Prediction: [0]\n",
      "Target: [1] Prediction: [0]\n",
      "Target: [1] Prediction: [0]\n",
      "Target: [2] Prediction: [1]\n",
      "Target: [2] Prediction: [2]\n",
      "Target: [1] Prediction: [1]\n",
      "Target: [1] Prediction: [0]\n",
      "Target: [1] Prediction: [1]\n",
      "Target: [0] Prediction: [0]\n",
      "Target: [1] Prediction: [2]\n",
      "Target: [1] Prediction: [1]\n",
      "Target: [1] Prediction: [0]\n",
      "Target: [1] Prediction: [1]\n",
      "Target: [1] Prediction: [1]\n",
      "Target: [1] Prediction: [1]\n",
      "Target: [0] Prediction: [0]\n",
      "Target: [0] Prediction: [0]\n",
      "Target: [0] Prediction: [0]\n",
      "Target: [2] Prediction: [0]\n",
      "Target: [0] Prediction: [0]\n",
      "Target: [0] Prediction: [0]\n",
      "Target: [1] Prediction: [2]\n",
      "Target: [2] Prediction: [1]\n",
      "Target: [0] Prediction: [0]\n",
      "Target: [2] Prediction: [1]\n",
      "Target: [0] Prediction: [0]\n",
      "Target: [0] Prediction: [0]\n",
      "Target: [1] Prediction: [1]\n",
      "Target: [1] Prediction: [1]\n",
      "Target: [2] Prediction: [1]\n",
      "Target: [1] Prediction: [0]\n",
      "Target: [2] Prediction: [1]\n",
      "Target: [1] Prediction: [1]\n",
      "Target: [0] Prediction: [0]\n",
      "Target: [1] Prediction: [1]\n",
      "Target: [0] Prediction: [2]\n",
      "Target: [1] Prediction: [1]\n",
      "Target: [0] Prediction: [0]\n",
      "Target: [2] Prediction: [0]\n",
      "Target: [1] Prediction: [1]\n",
      "Target: [1] Prediction: [1]\n",
      "Target: [2] Prediction: [0]\n",
      "Target: [0] Prediction: [0]\n",
      "Target: [2] Prediction: [1]\n",
      "Target: [0] Prediction: [1]\n",
      "Target: [1] Prediction: [1]\n",
      "Target: [1] Prediction: [0]\n",
      "Target: [0] Prediction: [1]\n",
      "Target: [1] Prediction: [1]\n",
      "Target: [0] Prediction: [0]\n",
      "Target: [0] Prediction: [0]\n",
      "Target: [1] Prediction: [2]\n",
      "Target: [1] Prediction: [2]\n",
      "Target: [0] Prediction: [0]\n",
      "Target: [1] Prediction: [1]\n",
      "Target: [2] Prediction: [0]\n",
      "Target: [1] Prediction: [1]\n",
      "Target: [1] Prediction: [1]\n",
      "Target: [1] Prediction: [0]\n",
      "Target: [0] Prediction: [0]\n",
      "Target: [0] Prediction: [0]\n",
      "Target: [1] Prediction: [2]\n",
      "Target: [2] Prediction: [1]\n",
      "Target: [1] Prediction: [1]\n",
      "Target: [1] Prediction: [0]\n",
      "Target: [2] Prediction: [0]\n",
      "Target: [1] Prediction: [0]\n",
      "Target: [0] Prediction: [1]\n",
      "Target: [2] Prediction: [2]\n",
      "Target: [1] Prediction: [1]\n",
      "Target: [0] Prediction: [0]\n",
      "Target: [1] Prediction: [0]\n",
      "Target: [1] Prediction: [2]\n",
      "Target: [0] Prediction: [0]\n",
      "Target: [0] Prediction: [0]\n",
      "Target: [2] Prediction: [0]\n",
      "Target: [2] Prediction: [1]\n",
      "Target: [2] Prediction: [1]\n",
      "Target: [1] Prediction: [0]\n",
      "Target: [1] Prediction: [1]\n",
      "Target: [2] Prediction: [0]\n",
      "Target: [1] Prediction: [2]\n",
      "Target: [0] Prediction: [2]\n",
      "Target: [0] Prediction: [1]\n",
      "Target: [0] Prediction: [0]\n",
      "Target: [0] Prediction: [0]\n",
      "Target: [1] Prediction: [1]\n",
      "Target: [0] Prediction: [0]\n",
      "Target: [1] Prediction: [1]\n",
      "Target: [2] Prediction: [2]\n",
      "Target: [0] Prediction: [1]\n",
      "Target: [0] Prediction: [2]\n",
      "Target: [1] Prediction: [1]\n",
      "Target: [1] Prediction: [1]\n",
      "Target: [1] Prediction: [0]\n",
      "Target: [1] Prediction: [1]\n",
      "Target: [2] Prediction: [1]\n",
      "Target: [1] Prediction: [1]\n",
      "Target: [0] Prediction: [0]\n",
      "Target: [1] Prediction: [1]\n",
      "Target: [0] Prediction: [0]\n",
      "Target: [1] Prediction: [1]\n",
      "Target: [0] Prediction: [0]\n",
      "Target: [2] Prediction: [2]\n",
      "Target: [2] Prediction: [0]\n",
      "Target: [2] Prediction: [1]\n",
      "Target: [1] Prediction: [1]\n",
      "Target: [1] Prediction: [1]\n",
      "Target: [1] Prediction: [0]\n",
      "Target: [1] Prediction: [2]\n",
      "Target: [0] Prediction: [1]\n",
      "Target: [1] Prediction: [1]\n",
      "Target: [0] Prediction: [0]\n",
      "Target: [1] Prediction: [1]\n",
      "Target: [1] Prediction: [1]\n",
      "Target: [0] Prediction: [1]\n",
      "Target: [1] Prediction: [1]\n",
      "Target: [0] Prediction: [0]\n",
      "Target: [2] Prediction: [0]\n",
      "Target: [1] Prediction: [0]\n",
      "Target: [2] Prediction: [0]\n",
      "Target: [1] Prediction: [2]\n",
      "Target: [2] Prediction: [0]\n",
      "Target: [0] Prediction: [1]\n",
      "Target: [1] Prediction: [1]\n",
      "Target: [1] Prediction: [0]\n",
      "Target: [1] Prediction: [1]\n",
      "Target: [0] Prediction: [1]\n",
      "Target: [2] Prediction: [0]\n",
      "Target: [2] Prediction: [0]\n",
      "Target: [2] Prediction: [1]\n",
      "Target: [1] Prediction: [0]\n",
      "Target: [1] Prediction: [1]\n",
      "Target: [1] Prediction: [0]\n",
      "Target: [0] Prediction: [1]\n",
      "Target: [1] Prediction: [1]\n",
      "Target: [1] Prediction: [1]\n",
      "Target: [1] Prediction: [1]\n",
      "Target: [1] Prediction: [0]\n",
      "Target: [0] Prediction: [0]\n",
      "Target: [0] Prediction: [0]\n",
      "Target: [1] Prediction: [1]\n",
      "Target: [2] Prediction: [0]\n",
      "Target: [2] Prediction: [1]\n",
      "Target: [0] Prediction: [0]\n",
      "Target: [2] Prediction: [0]\n",
      "Target: [1] Prediction: [1]\n",
      "Target: [2] Prediction: [1]\n",
      "Target: [1] Prediction: [0]\n",
      "Target: [1] Prediction: [0]\n",
      "Target: [1] Prediction: [0]\n",
      "Target: [1] Prediction: [0]\n",
      "Target: [1] Prediction: [0]\n",
      "Target: [2] Prediction: [0]\n",
      "Target: [2] Prediction: [1]\n",
      "Target: [0] Prediction: [1]\n",
      "Target: [2] Prediction: [2]\n",
      "Target: [1] Prediction: [0]\n",
      "Target: [1] Prediction: [0]\n",
      "Target: [2] Prediction: [1]\n",
      "Target: [2] Prediction: [0]\n",
      "Target: [2] Prediction: [0]\n",
      "Target: [2] Prediction: [0]\n",
      "Target: [1] Prediction: [1]\n",
      "Target: [1] Prediction: [0]\n",
      "Target: [2] Prediction: [1]\n",
      "Target: [1] Prediction: [1]\n",
      "Target: [1] Prediction: [1]\n",
      "Target: [1] Prediction: [1]\n",
      "Target: [1] Prediction: [0]\n",
      "Target: [2] Prediction: [1]\n",
      "Target: [0] Prediction: [1]\n",
      "Target: [2] Prediction: [2]\n",
      "Target: [2] Prediction: [1]\n",
      "Target: [1] Prediction: [0]\n",
      "Target: [0] Prediction: [2]\n",
      "Target: [2] Prediction: [2]\n",
      "Target: [1] Prediction: [1]\n",
      "Target: [2] Prediction: [2]\n",
      "Target: [0] Prediction: [0]\n",
      "Target: [0] Prediction: [0]\n",
      "Target: [2] Prediction: [1]\n",
      "Target: [1] Prediction: [1]\n",
      "Target: [0] Prediction: [2]\n",
      "Target: [0] Prediction: [0]\n",
      "Target: [2] Prediction: [1]\n",
      "Target: [2] Prediction: [0]\n",
      "Target: [0] Prediction: [0]\n",
      "Target: [0] Prediction: [0]\n",
      "Target: [0] Prediction: [0]\n",
      "Target: [1] Prediction: [1]\n",
      "Target: [2] Prediction: [0]\n",
      "Target: [1] Prediction: [1]\n",
      "Target: [2] Prediction: [0]\n",
      "Target: [0] Prediction: [1]\n",
      "Target: [1] Prediction: [1]\n",
      "Target: [2] Prediction: [1]\n",
      "Target: [1] Prediction: [1]\n",
      "Target: [1] Prediction: [0]\n",
      "Target: [1] Prediction: [1]\n",
      "Target: [2] Prediction: [0]\n",
      "Target: [2] Prediction: [1]\n",
      "Target: [1] Prediction: [0]\n",
      "Target: [0] Prediction: [0]\n",
      "Target: [0] Prediction: [0]\n",
      "Target: [1] Prediction: [2]\n",
      "Target: [1] Prediction: [0]\n",
      "Target: [1] Prediction: [1]\n",
      "Target: [0] Prediction: [0]\n",
      "Target: [1] Prediction: [1]\n",
      "Target: [1] Prediction: [1]\n",
      "Target: [1] Prediction: [1]\n",
      "Target: [0] Prediction: [1]\n",
      "Target: [0] Prediction: [0]\n",
      "Target: [1] Prediction: [0]\n",
      "Target: [0] Prediction: [0]\n",
      "Target: [1] Prediction: [1]\n",
      "Target: [0] Prediction: [1]\n",
      "Target: [0] Prediction: [0]\n",
      "Target: [1] Prediction: [1]\n",
      "Target: [1] Prediction: [1]\n",
      "Target: [0] Prediction: [0]\n",
      "Target: [2] Prediction: [0]\n",
      "Target: [0] Prediction: [0]\n",
      "Target: [1] Prediction: [1]\n",
      "Target: [0] Prediction: [0]\n",
      "Target: [1] Prediction: [1]\n",
      "Target: [2] Prediction: [0]\n",
      "Target: [0] Prediction: [0]\n",
      "Target: [1] Prediction: [1]\n",
      "Target: [1] Prediction: [1]\n",
      "Target: [1] Prediction: [1]\n",
      "Target: [0] Prediction: [0]\n",
      "Target: [2] Prediction: [1]\n",
      "Target: [0] Prediction: [0]\n",
      "Target: [0] Prediction: [0]\n",
      "Target: [1] Prediction: [1]\n",
      "Target: [1] Prediction: [2]\n",
      "Target: [0] Prediction: [1]\n",
      "Target: [2] Prediction: [1]\n",
      "Target: [1] Prediction: [1]\n",
      "Target: [1] Prediction: [1]\n",
      "Target: [2] Prediction: [0]\n",
      "Target: [2] Prediction: [1]\n",
      "Target: [0] Prediction: [1]\n",
      "Target: [0] Prediction: [0]\n",
      "Target: [0] Prediction: [0]\n",
      "Target: [1] Prediction: [0]\n",
      "Target: [2] Prediction: [0]\n",
      "Target: [1] Prediction: [1]\n",
      "Target: [1] Prediction: [0]\n",
      "Target: [1] Prediction: [2]\n",
      "Target: [1] Prediction: [0]\n",
      "Target: [1] Prediction: [0]\n",
      "Target: [0] Prediction: [2]\n",
      "Target: [1] Prediction: [0]\n",
      "Target: [2] Prediction: [0]\n",
      "Target: [1] Prediction: [1]\n",
      "Target: [1] Prediction: [1]\n",
      "Target: [1] Prediction: [1]\n",
      "Target: [1] Prediction: [2]\n",
      "Target: [2] Prediction: [0]\n",
      "Target: [1] Prediction: [2]\n",
      "Target: [1] Prediction: [1]\n",
      "Target: [1] Prediction: [0]\n",
      "Target: [0] Prediction: [2]\n",
      "Target: [0] Prediction: [0]\n",
      "Target: [1] Prediction: [0]\n",
      "Target: [0] Prediction: [2]\n",
      "Target: [1] Prediction: [1]\n",
      "Target: [0] Prediction: [0]\n",
      "Target: [1] Prediction: [2]\n",
      "Target: [0] Prediction: [0]\n",
      "Target: [1] Prediction: [2]\n",
      "Target: [2] Prediction: [2]\n",
      "Target: [0] Prediction: [0]\n",
      "Target: [1] Prediction: [1]\n",
      "Target: [0] Prediction: [0]\n",
      "Target: [1] Prediction: [1]\n",
      "Target: [1] Prediction: [1]\n",
      "Target: [1] Prediction: [1]\n",
      "Target: [2] Prediction: [1]\n",
      "Target: [1] Prediction: [1]\n",
      "Target: [0] Prediction: [1]\n",
      "Target: [1] Prediction: [2]\n",
      "Target: [0] Prediction: [0]\n",
      "Target: [2] Prediction: [1]\n",
      "Target: [1] Prediction: [1]\n",
      "Target: [2] Prediction: [0]\n",
      "Target: [1] Prediction: [1]\n",
      "Target: [1] Prediction: [1]\n",
      "Target: [1] Prediction: [0]\n",
      "Target: [2] Prediction: [1]\n",
      "Target: [1] Prediction: [0]\n",
      "Target: [1] Prediction: [0]\n",
      "Target: [0] Prediction: [0]\n",
      "Target: [2] Prediction: [1]\n",
      "Target: [1] Prediction: [0]\n",
      "Target: [1] Prediction: [1]\n",
      "Target: [1] Prediction: [1]\n",
      "Target: [0] Prediction: [1]\n",
      "Target: [1] Prediction: [1]\n",
      "Target: [2] Prediction: [0]\n",
      "Target: [2] Prediction: [0]\n",
      "Target: [0] Prediction: [1]\n",
      "Target: [1] Prediction: [1]\n",
      "Target: [0] Prediction: [1]\n",
      "Target: [0] Prediction: [0]\n",
      "Target: [0] Prediction: [0]\n",
      "Target: [1] Prediction: [1]\n",
      "Target: [0] Prediction: [2]\n",
      "Target: [1] Prediction: [1]\n",
      "Target: [0] Prediction: [2]\n",
      "Target: [0] Prediction: [2]\n",
      "Target: [2] Prediction: [0]\n",
      "Target: [2] Prediction: [0]\n",
      "Target: [1] Prediction: [1]\n",
      "Target: [1] Prediction: [1]\n",
      "Target: [2] Prediction: [0]\n",
      "Target: [1] Prediction: [1]\n",
      "Target: [2] Prediction: [1]\n",
      "Target: [1] Prediction: [2]\n",
      "Target: [0] Prediction: [0]\n",
      "Target: [1] Prediction: [0]\n",
      "Target: [2] Prediction: [0]\n",
      "Target: [1] Prediction: [1]\n",
      "Target: [0] Prediction: [2]\n",
      "Target: [1] Prediction: [0]\n",
      "Target: [1] Prediction: [1]\n",
      "Target: [1] Prediction: [1]\n",
      "Target: [1] Prediction: [1]\n",
      "Target: [0] Prediction: [0]\n",
      "Target: [1] Prediction: [1]\n",
      "Target: [2] Prediction: [0]\n",
      "Target: [0] Prediction: [1]\n",
      "Target: [1] Prediction: [1]\n",
      "Target: [0] Prediction: [0]\n",
      "Target: [1] Prediction: [1]\n",
      "Target: [1] Prediction: [1]\n",
      "Target: [0] Prediction: [0]\n",
      "Target: [2] Prediction: [0]\n",
      "Target: [1] Prediction: [1]\n",
      "Target: [2] Prediction: [0]\n",
      "Target: [0] Prediction: [0]\n",
      "Target: [1] Prediction: [1]\n",
      "Target: [0] Prediction: [0]\n",
      "Target: [1] Prediction: [1]\n",
      "Target: [1] Prediction: [2]\n",
      "Target: [0] Prediction: [0]\n"
     ]
    }
   ],
   "source": [
    "logreg = apply_classifier(df,model = 'Logistic_Regression',print_test=True)"
   ]
  },
  {
   "cell_type": "code",
   "execution_count": 25,
   "metadata": {},
   "outputs": [
    {
     "data": {
      "image/png": "[encoded data removed]",
      "text/plain": [
       "<matplotlib.figure.Figure at 0x20b87ed2c18>"
      ]
     },
     "metadata": {},
     "output_type": "display_data"
    },
    {
     "name": "stdout",
     "output_type": "stream",
     "text": [
      "Mean Accuracy: 0.462394707078 %\n"
     ]
    },
    {
     "data": {
      "text/plain": [
       "LogisticRegression(C=1, class_weight='balanced', dual=False,\n",
       "          fit_intercept=True, intercept_scaling=1, max_iter=100,\n",
       "          multi_class='ovr', n_jobs=1, penalty='l2', random_state=None,\n",
       "          solver='lbfgs', tol=0.0001, verbose=0, warm_start=False)"
      ]
     },
     "execution_count": 25,
     "metadata": {},
     "output_type": "execute_result"
    }
   ],
   "source": [
    "apply_classifier(df,model = 'Logistic_Regression', cross_validation = True)"
   ]
  },
  {
   "cell_type": "code",
   "execution_count": 26,
   "metadata": {},
   "outputs": [
    {
     "name": "stdout",
     "output_type": "stream",
     "text": [
      "Accuracy: 0.473945409429 %\n"
     ]
    },
    {
     "data": {
      "text/plain": [
       "SVC(C=1.0, cache_size=200, class_weight=None, coef0=0.0,\n",
       "  decision_function_shape='ovr', degree=3, gamma='auto', kernel='rbf',\n",
       "  max_iter=-1, probability=False, random_state=None, shrinking=True,\n",
       "  tol=0.001, verbose=False)"
      ]
     },
     "execution_count": 26,
     "metadata": {},
     "output_type": "execute_result"
    }
   ],
   "source": [
    "apply_classifier(df,model = 'SVM')"
   ]
  },
  {
   "cell_type": "code",
   "execution_count": 27,
   "metadata": {},
   "outputs": [
    {
     "data": {
      "image/png": "[encoded data removed]",
      "text/plain": [
       "<matplotlib.figure.Figure at 0x20b88361e48>"
      ]
     },
     "metadata": {},
     "output_type": "display_data"
    },
    {
     "name": "stdout",
     "output_type": "stream",
     "text": [
      "Mean Accuracy: 0.469308143547 %\n"
     ]
    },
    {
     "data": {
      "text/plain": [
       "SVC(C=1.0, cache_size=200, class_weight=None, coef0=0.0,\n",
       "  decision_function_shape='ovr', degree=3, gamma='auto', kernel='rbf',\n",
       "  max_iter=-1, probability=False, random_state=None, shrinking=True,\n",
       "  tol=0.001, verbose=False)"
      ]
     },
     "execution_count": 27,
     "metadata": {},
     "output_type": "execute_result"
    }
   ],
   "source": [
    "apply_classifier(df,model = 'SVM',cross_validation=True)"
   ]
  },
  {
   "cell_type": "markdown",
   "metadata": {},
   "source": [
    "Logistic Regression seems to have a higher accuracy than Support Vector Machines in this case. The accuracy obtained is comparable to that of bibliography without complicating the feature selection and processing to much. Furthermore, it seems that the process of cross validation lowers the accuracy but it does allow for better insight in the training process."
   ]
  },
  {
   "cell_type": "code",
   "execution_count": 28,
   "metadata": {
    "collapsed": true
   },
   "outputs": [],
   "source": [
    "def sigmoid(x , deriv = False): \n",
    "    result = 1/(1+np.exp(-x))\n",
    "    if deriv: \n",
    "        return result*(1-result)\n",
    "    return result\n",
    "\n",
    "def softmax(x): \n",
    "    exp = np.exp(x)\n",
    "    return exp/np.sum(exp , axis = 0)\n",
    "\n",
    "def cost(x, y, deriv = True):\n",
    "    return x - y\n",
    "\n",
    "def train_model(X , y , input_nodes , hl_nodes ,  output_nodes , iterations , a = 0.001):\n",
    "\n",
    "    ''' ----------------------------- Initialization ------------------- '''\n",
    "\n",
    "    np.random.seed(3)\n",
    "    W1 = np.random.randn(input_nodes , hl_nodes)\n",
    "    b1 = np.zeros(hl_nodes)\n",
    "    W2 = np.random.randn(hl_nodes , output_nodes)\n",
    "    b2 = np.zeros(output_nodes)\n",
    "\n",
    "    for i in range(0,iterations):\n",
    "        if i%40 == 0:\n",
    "            print('Progress:' , 100*i/iterations, '%')\n",
    "        \n",
    "\n",
    "        ''' ------------------------ Feedforward ------------------------ '''\n",
    "\n",
    "        z1 = X.dot(W1) + b1\n",
    "        a1 = sigmoid(z1)\n",
    "        z2 = a1.dot(W2) + b2\n",
    "        a2 = sigmoid(z2)\n",
    "\n",
    "        ''' ----------------------- Backpropagation ---------------------- '''\n",
    "\n",
    "        delta = cost(a2, y)\n",
    "        delta2 = np.multiply(np.dot(delta , W2.T) , sigmoid(z1, deriv = True))\n",
    "        db2 = np.sum(delta , axis = 0)\n",
    "        dW2 = np.dot(a1.T , delta)\n",
    "        db1 = np.sum(delta2 , axis = 0)\n",
    "        dW1 = np.dot(X.T , delta2)\n",
    "\n",
    "        ''' ---------------------- Update -------------------------------- '''\n",
    "        b1 -= a*db1\n",
    "        W2 -= a*dW2\n",
    "        b2 -= a*db2\n",
    "        W1 -= a*dW1\n",
    "\n",
    "\n",
    "    print('Training Complete')\n",
    "    model = {'W1': W1 , 'W2': W2 , 'b1': b1 , 'b2' : b2}\n",
    "    return model"
   ]
  },
  {
   "cell_type": "markdown",
   "metadata": {},
   "source": [
    "This is a very simple network written using only numpy as a library. It involves a feedforward backpropagation style. The data is fed into the network and then propagated though the layers. The specific math and general description of the architechture can be found here: https://towardsdatascience.com/deep-learning-feedforward-neural-network-26a6705dbdc7. The backpropagation algorithm involves computing the loss, here mean-squared error, in the last layer and then propagating though the layers in a backword fashion to find the losses associated with previous layers and from that compute the optimal weight and bias matrices so as to minimize the cost function. The fact that each layer applies nonliniarities, allows the network to model non-linear functions which is important here. The training function returns optimized weight and bias matrices which are used to predict the output of corresponding inputs. Backpropagation information can be found here: http://neuralnetworksanddeeplearning.com/chap2.html. An amazing source which explains in detail the architechture. The network optimizes using the four fundamental equations of backpropagation which can be found in the source and govern the training proccess.\n"
   ]
  },
  {
   "cell_type": "code",
   "execution_count": 29,
   "metadata": {},
   "outputs": [
    {
     "name": "stdout",
     "output_type": "stream",
     "text": [
      "Progress: 0.0 %\n",
      "Progress: 10.81081081081081 %\n",
      "Progress: 21.62162162162162 %\n",
      "Progress: 32.432432432432435 %\n",
      "Progress: 43.24324324324324 %\n",
      "Progress: 54.054054054054056 %\n",
      "Progress: 64.86486486486487 %\n",
      "Progress: 75.67567567567568 %\n",
      "Progress: 86.48648648648648 %\n",
      "Progress: 97.29729729729729 %\n",
      "Training Complete\n"
     ]
    }
   ],
   "source": [
    "train_data , test_data = train_test_split(df,test_size = 0.2,shuffle = False)\n",
    "train_data = shuffle(train_data)\n",
    "test_data = shuffle(test_data)\n",
    "train_X = train_data[['Home_Team_ELO','Away_Team_ELO','Previous_Outcomes','Home_Team_Streak','Away_Team_Streak']]\n",
    "train_Y = train_data[['FTR']]\n",
    "for row in train_Y.itertuples(): \n",
    "    if row.FTR == 0.5: \n",
    "        train_Y.set_value(row.Index,'FTR',2)\n",
    "train_Y = train_Y.astype(int)\n",
    "test_X = test_data[['Home_Team_ELO','Away_Team_ELO','Previous_Outcomes','Home_Team_Streak','Away_Team_Streak']]\n",
    "test_Y = test_data[['FTR']]\n",
    "for row in test_Y.itertuples(): \n",
    "    if row.FTR == 0.5: \n",
    "        test_Y.set_value(row.Index,'FTR',2)\n",
    "y_onehot = (np.arange(3) == train_Y.values[:,None]).astype(np.float)\n",
    "y_onehot = np.array(list(map(lambda x: x[0], y_onehot)))\n",
    "model = train_model(train_X.values,y_onehot,5,35,3,370)"
   ]
  },
  {
   "cell_type": "code",
   "execution_count": 30,
   "metadata": {
    "collapsed": true
   },
   "outputs": [],
   "source": [
    "def predict(model , X):\n",
    "\n",
    "\n",
    "    W1 , b1 , W2 , b2 = model['W1'] , model['b1'] , model['W2'] , model['b2']\n",
    "\n",
    "\n",
    "    ''' ------------------------ Feedforward ------------------------ '''\n",
    "\n",
    "    z1 = X.dot(W1) + b1\n",
    "    a1 = sigmoid(z1)\n",
    "    z2 = a1.dot(W2) + b2\n",
    "    a2 = softmax(z2)\n",
    "\n",
    "    return np.argmax(a2, axis = 1)"
   ]
  },
  {
   "cell_type": "code",
   "execution_count": 31,
   "metadata": {},
   "outputs": [
    {
     "name": "stdout",
     "output_type": "stream",
     "text": [
      "[1 2 1 2 0 1 1 2 2 0 2 2 1 0 1 0 1 1 1 0 0 0 0 0 1 2 2 1 2 1 0 2 2 0 1 1 1\n",
      " 0 1 1 0 1 2 1 0 0 2 1 1 0 2 0 2 1 1 1 0 2 2 0 2 0 1 1 1 1 0 0 1 1 1 1 0 1\n",
      " 2 1 1 1 0 2 1 1 0 1 2 1 1 1 2 2 2 1 0 0 2 1 0 2 2 0 2 1 1 1 2 0 2 0 1 1 2\n",
      " 2 0 1 1 2 2 2 1 2 1 2 2 1 2 0 2 2 1 2 1 1 1 2 2 0 1 2 0 0 0 0 0 0 0 1 1 0\n",
      " 1 2 2 1 2 1 2 1 2 2 2 0 1 0 2 2 0 1 0 0 1 0 1 0 1 1 2 1 2 0 1 2 0 1 1 1 2\n",
      " 0 0 2 1 2 2 1 1 1 2 2 1 1 0 1 1 2 0 1 0 2 1 1 1 1 1 1 2 0 1 0 0 0 0 0 2 0\n",
      " 2 2 1 0 0 2 0 0 1 1 2 1 0 1 2 0 2 1 2 2 2 2 1 2 2 1 2 2 1 1 1 2 1 1 2 2 1\n",
      " 1 2 0 1 2 1 2 1 2 1 2 1 1 1 0 2 1 2 2 2 1 0 2 2 1 2 0 0 0 2 0 2 1 2 2 1 1\n",
      " 1 1 0 1 1 2 1 1 0 2 1 0 2 0 2 1 2 1 1 0 1 2 2 2 0 1 0 1 1 1 1 2 2 2 2 2 2\n",
      " 1 2 0 1 2 0 2 1 2 0 2 1 1 2 0 1 1 1 0 2 0 0 1 0 2 2 1 2 0 1 0 0 1 2 2 2 2\n",
      " 2 2 0 1 1 2 1 1 1 1 1 1 1 1 1 1 2 1 1 1 1 2 2 2 2 2 0 1 0 2 2 0 0]\n"
     ]
    }
   ],
   "source": [
    "predictions = predict(model,test_X.values)\n",
    "print(predictions)"
   ]
  },
  {
   "cell_type": "code",
   "execution_count": 32,
   "metadata": {},
   "outputs": [
    {
     "name": "stdout",
     "output_type": "stream",
     "text": [
      "Accuracy: 51.86104218362283 %\n"
     ]
    }
   ],
   "source": [
    "errors = 0\n",
    "count = 0\n",
    "for i in test_Y.values:\n",
    "    if i[0]!=predictions[count]: \n",
    "        errors += 1\n",
    "    count += 1\n",
    "print('Accuracy:', 100-errors/len(test_Y)*100,'%')        "
   ]
  },
  {
   "cell_type": "markdown",
   "metadata": {},
   "source": [
    "The network seems to perform better than both of the previous algorithms despite the small dataset. The accuracy is extremely close to the theoretical value."
   ]
  },
  {
   "cell_type": "markdown",
   "metadata": {},
   "source": [
    "#### _Model Training and Validation_\n",
    "\n",
    "-------------------------------------\n",
    "\n",
    "The above notes outlined the training process. For the first two _sklearn_ classifiers the `classifier.fit()` method was used to train. For the network the process was a bit more complicated and it is detailed above. The accuracy of all algorithms was computed in the same way. The training examples were predicted using the trained architechtures and the ouputs were compared to to the true labels. This allowed for accuracy calculations which is the best indication of the efficiency of the algorithm. "
   ]
  },
  {
   "cell_type": "markdown",
   "metadata": {},
   "source": [
    "#### _Results_\n",
    "\n",
    "----------------\n",
    "\n",
    "The algorithm that seems to be performing best out of the two _sklearn_ ones is logistic regression with an accuracy of almost 51% close to the theoretical accuracy of 53%. The Support Vector Machine seems to have a smaller accuracy close to 47%. The network has an accuracy of 52% which is larger than the SVM and the Linear Regression algorithms but not optimal as expected due to small datasets. Overall, the accuracy's seem reasonable and with a better ELO system as proposed in Kaggle's Competition the accuracy could be boosted by a bit.\n",
    "> _Note_: The Accuracy of the network might differ slightly depening on the split of the data"
   ]
  },
  {
   "cell_type": "code",
   "execution_count": 33,
   "metadata": {},
   "outputs": [],
   "source": [
    "predict_df = pd.read_csv('C://Users//nick//Desktop//ML_assignmen//epl-test.csv')"
   ]
  },
  {
   "cell_type": "code",
   "execution_count": 34,
   "metadata": {},
   "outputs": [],
   "source": [
    "predict_df['Season_Number'] = 13"
   ]
  },
  {
   "cell_type": "code",
   "execution_count": 35,
   "metadata": {},
   "outputs": [],
   "source": [
    "for row in predict_df.itertuples():\n",
    "    predict_df.set_value(row.Index , 'HomeTeam' , unique_teams.index(row.HomeTeam))\n",
    "    predict_df.set_value(row.Index , 'AwayTeam' , unique_teams.index(row.AwayTeam))\n",
    "    predict_df.set_value(row.Index , 'Home_Team_ELO' , elo_dictionary[row.HomeTeam])\n",
    "    predict_df.set_value(row.Index , 'Away_Team_ELO' , elo_dictionary[row.AwayTeam])\n"
   ]
  },
  {
   "cell_type": "code",
   "execution_count": 36,
   "metadata": {},
   "outputs": [
    {
     "data": {
      "text/html": [
       "<div>\n",
       "<style>\n",
       "    .dataframe thead tr:only-child th {\n",
       "        text-align: right;\n",
       "    }\n",
       "\n",
       "    .dataframe thead th {\n",
       "        text-align: left;\n",
       "    }\n",
       "\n",
       "    .dataframe tbody tr th {\n",
       "        vertical-align: top;\n",
       "    }\n",
       "</style>\n",
       "<table border=\"1\" class=\"dataframe\">\n",
       "  <thead>\n",
       "    <tr style=\"text-align: right;\">\n",
       "      <th></th>\n",
       "      <th>Date</th>\n",
       "      <th>HomeTeam</th>\n",
       "      <th>AwayTeam</th>\n",
       "      <th>Season_Number</th>\n",
       "      <th>Home_Team_ELO</th>\n",
       "      <th>Away_Team_ELO</th>\n",
       "    </tr>\n",
       "  </thead>\n",
       "  <tbody>\n",
       "    <tr>\n",
       "      <th>0</th>\n",
       "      <td>20 Jan 18</td>\n",
       "      <td>2</td>\n",
       "      <td>15</td>\n",
       "      <td>13</td>\n",
       "      <td>39.0</td>\n",
       "      <td>22.0</td>\n",
       "    </tr>\n",
       "    <tr>\n",
       "      <th>1</th>\n",
       "      <td>20 Jan 18</td>\n",
       "      <td>12</td>\n",
       "      <td>6</td>\n",
       "      <td>13</td>\n",
       "      <td>34.0</td>\n",
       "      <td>47.0</td>\n",
       "    </tr>\n",
       "    <tr>\n",
       "      <th>2</th>\n",
       "      <td>20 Jan 18</td>\n",
       "      <td>0</td>\n",
       "      <td>9</td>\n",
       "      <td>13</td>\n",
       "      <td>27.0</td>\n",
       "      <td>16.0</td>\n",
       "    </tr>\n",
       "    <tr>\n",
       "      <th>3</th>\n",
       "      <td>20 Jan 18</td>\n",
       "      <td>16</td>\n",
       "      <td>10</td>\n",
       "      <td>13</td>\n",
       "      <td>30.0</td>\n",
       "      <td>25.0</td>\n",
       "    </tr>\n",
       "    <tr>\n",
       "      <th>4</th>\n",
       "      <td>20 Jan 18</td>\n",
       "      <td>1</td>\n",
       "      <td>3</td>\n",
       "      <td>13</td>\n",
       "      <td>62.0</td>\n",
       "      <td>22.0</td>\n",
       "    </tr>\n",
       "    <tr>\n",
       "      <th>5</th>\n",
       "      <td>20 Jan 18</td>\n",
       "      <td>14</td>\n",
       "      <td>5</td>\n",
       "      <td>13</td>\n",
       "      <td>20.0</td>\n",
       "      <td>41.0</td>\n",
       "    </tr>\n",
       "    <tr>\n",
       "      <th>6</th>\n",
       "      <td>20 Jan 18</td>\n",
       "      <td>13</td>\n",
       "      <td>7</td>\n",
       "      <td>13</td>\n",
       "      <td>16.0</td>\n",
       "      <td>44.0</td>\n",
       "    </tr>\n",
       "    <tr>\n",
       "      <th>7</th>\n",
       "      <td>20 Jan 18</td>\n",
       "      <td>8</td>\n",
       "      <td>17</td>\n",
       "      <td>13</td>\n",
       "      <td>22.0</td>\n",
       "      <td>21.0</td>\n",
       "    </tr>\n",
       "  </tbody>\n",
       "</table>\n",
       "</div>"
      ],
      "text/plain": [
       "        Date HomeTeam AwayTeam  Season_Number  Home_Team_ELO  Away_Team_ELO\n",
       "0  20 Jan 18        2       15             13           39.0           22.0\n",
       "1  20 Jan 18       12        6             13           34.0           47.0\n",
       "2  20 Jan 18        0        9             13           27.0           16.0\n",
       "3  20 Jan 18       16       10             13           30.0           25.0\n",
       "4  20 Jan 18        1        3             13           62.0           22.0\n",
       "5  20 Jan 18       14        5             13           20.0           41.0\n",
       "6  20 Jan 18       13        7             13           16.0           44.0\n",
       "7  20 Jan 18        8       17             13           22.0           21.0"
      ]
     },
     "execution_count": 36,
     "metadata": {},
     "output_type": "execute_result"
    }
   ],
   "source": [
    "predict_df"
   ]
  },
  {
   "cell_type": "code",
   "execution_count": 37,
   "metadata": {},
   "outputs": [],
   "source": [
    "frames = [df,predict_df]\n",
    "predict_df = pd.concat(frames)\n",
    "predict_df = predict_df.reset_index(drop = True)"
   ]
  },
  {
   "cell_type": "code",
   "execution_count": 38,
   "metadata": {},
   "outputs": [],
   "source": [
    "predict_df = weigh_previous_games(predict_df)"
   ]
  },
  {
   "cell_type": "code",
   "execution_count": 39,
   "metadata": {
    "collapsed": true
   },
   "outputs": [],
   "source": [
    "predict_df = determine_team_streak(predict_df)"
   ]
  },
  {
   "cell_type": "code",
   "execution_count": 40,
   "metadata": {},
   "outputs": [],
   "source": [
    "predict_df = predict_df[2014:]  "
   ]
  },
  {
   "cell_type": "code",
   "execution_count": 41,
   "metadata": {},
   "outputs": [
    {
     "name": "stdout",
     "output_type": "stream",
     "text": [
      "[1 0 1 1 1 0 0 1]\n"
     ]
    }
   ],
   "source": [
    "preds = logreg.predict(predict_df[['Home_Team_ELO','Away_Team_ELO','Previous_Outcomes','Home_Team_Streak','Away_Team_Streak']])\n",
    "print(preds)"
   ]
  },
  {
   "cell_type": "code",
   "execution_count": 47,
   "metadata": {},
   "outputs": [
    {
     "name": "stdout",
     "output_type": "stream",
     "text": [
      "[1 2 1 1 1 0 0 2]\n"
     ]
    }
   ],
   "source": [
    "array = predict_df[['Home_Team_ELO','Away_Team_ELO','Previous_Outcomes','Home_Team_Streak','Away_Team_Streak']].values\n",
    "predictions = predict(model,array)\n",
    "print(predictions)"
   ]
  },
  {
   "cell_type": "code",
   "execution_count": 43,
   "metadata": {},
   "outputs": [],
   "source": [
    "final_preds = []\n",
    "for i in predictions: \n",
    "    if i == 0: \n",
    "        final_preds.append('A')\n",
    "    elif i == 1: \n",
    "        final_preds.append('H')\n",
    "    else: \n",
    "        final_preds.append('D')       "
   ]
  },
  {
   "cell_type": "code",
   "execution_count": 44,
   "metadata": {},
   "outputs": [],
   "source": [
    "final_df =  pd.read_csv('C://Users//nick//Desktop//ML_assignmen//epl-test.csv')\n",
    "final_df['FTR'] = final_preds"
   ]
  },
  {
   "cell_type": "code",
   "execution_count": 45,
   "metadata": {},
   "outputs": [
    {
     "data": {
      "text/html": [
       "<div>\n",
       "<style>\n",
       "    .dataframe thead tr:only-child th {\n",
       "        text-align: right;\n",
       "    }\n",
       "\n",
       "    .dataframe thead th {\n",
       "        text-align: left;\n",
       "    }\n",
       "\n",
       "    .dataframe tbody tr th {\n",
       "        vertical-align: top;\n",
       "    }\n",
       "</style>\n",
       "<table border=\"1\" class=\"dataframe\">\n",
       "  <thead>\n",
       "    <tr style=\"text-align: right;\">\n",
       "      <th></th>\n",
       "      <th>Date</th>\n",
       "      <th>HomeTeam</th>\n",
       "      <th>AwayTeam</th>\n",
       "      <th>FTR</th>\n",
       "    </tr>\n",
       "  </thead>\n",
       "  <tbody>\n",
       "    <tr>\n",
       "      <th>0</th>\n",
       "      <td>20 Jan 18</td>\n",
       "      <td>Arsenal</td>\n",
       "      <td>Crystal Palace</td>\n",
       "      <td>H</td>\n",
       "    </tr>\n",
       "    <tr>\n",
       "      <th>1</th>\n",
       "      <td>20 Jan 18</td>\n",
       "      <td>Burnley</td>\n",
       "      <td>Man United</td>\n",
       "      <td>D</td>\n",
       "    </tr>\n",
       "    <tr>\n",
       "      <th>2</th>\n",
       "      <td>20 Jan 18</td>\n",
       "      <td>Everton</td>\n",
       "      <td>West Brom</td>\n",
       "      <td>H</td>\n",
       "    </tr>\n",
       "    <tr>\n",
       "      <th>3</th>\n",
       "      <td>20 Jan 18</td>\n",
       "      <td>Leicester</td>\n",
       "      <td>Watford</td>\n",
       "      <td>H</td>\n",
       "    </tr>\n",
       "    <tr>\n",
       "      <th>4</th>\n",
       "      <td>20 Jan 18</td>\n",
       "      <td>Man City</td>\n",
       "      <td>Newcastle</td>\n",
       "      <td>H</td>\n",
       "    </tr>\n",
       "    <tr>\n",
       "      <th>5</th>\n",
       "      <td>20 Jan 18</td>\n",
       "      <td>Southampton</td>\n",
       "      <td>Tottenham</td>\n",
       "      <td>A</td>\n",
       "    </tr>\n",
       "    <tr>\n",
       "      <th>6</th>\n",
       "      <td>20 Jan 18</td>\n",
       "      <td>Swansea</td>\n",
       "      <td>Liverpool</td>\n",
       "      <td>A</td>\n",
       "    </tr>\n",
       "    <tr>\n",
       "      <th>7</th>\n",
       "      <td>20 Jan 18</td>\n",
       "      <td>West Ham</td>\n",
       "      <td>Bournemouth</td>\n",
       "      <td>D</td>\n",
       "    </tr>\n",
       "  </tbody>\n",
       "</table>\n",
       "</div>"
      ],
      "text/plain": [
       "        Date     HomeTeam        AwayTeam FTR\n",
       "0  20 Jan 18      Arsenal  Crystal Palace   H\n",
       "1  20 Jan 18      Burnley      Man United   D\n",
       "2  20 Jan 18      Everton       West Brom   H\n",
       "3  20 Jan 18    Leicester         Watford   H\n",
       "4  20 Jan 18     Man City       Newcastle   H\n",
       "5  20 Jan 18  Southampton       Tottenham   A\n",
       "6  20 Jan 18      Swansea       Liverpool   A\n",
       "7  20 Jan 18     West Ham     Bournemouth   D"
      ]
     },
     "execution_count": 45,
     "metadata": {},
     "output_type": "execute_result"
    }
   ],
   "source": [
    "final_df"
   ]
  },
  {
   "cell_type": "markdown",
   "metadata": {},
   "source": [
    "#### _Final Predictions on Test Set_\n",
    "\n",
    "-----------------------------------\n",
    "\n",
    "The processing for the final test set is exactly the same as for the training examples used. The Neural Network Classifier is used since it has the highest accuracy of the three. The final results can be seen above. The logistic regression output is close to that of the network with only two different results."
   ]
  },
  {
   "cell_type": "code",
   "execution_count": 52,
   "metadata": {},
   "outputs": [],
   "source": [
    "final_df.to_csv('C://Users//nick//Desktop//ML_assignmen//final_predictions.csv',index = False)"
   ]
  }
 ],
 "metadata": {
  "kernelspec": {
   "display_name": "Python 3",
   "language": "python",
   "name": "python3"
  },
  "language_info": {
   "codemirror_mode": {
    "name": "ipython",
    "version": 3
   },
   "file_extension": ".py",
   "mimetype": "text/x-python",
   "name": "python",
   "nbconvert_exporter": "python",
   "pygments_lexer": "ipython3",
   "version": "3.6.1"
  }
 },
 "nbformat": 4,
 "nbformat_minor": 2
}
